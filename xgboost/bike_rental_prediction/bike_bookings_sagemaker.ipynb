{
 "cells": [
  {
   "cell_type": "markdown",
   "metadata": {},
   "source": [
    "# Summary\n",
    "\n",
    "    - How to look up Amazon ECR for a container image for xgboost algorithm\n",
    "    - How to build an Estimator & define Hyperparams\n",
    "    - How to specify training & validation data\n",
    "    - How to train model\n",
    "    - How to deploy model\n",
    "    - How to make predictions"
   ]
  },
  {
   "cell_type": "code",
   "execution_count": 5,
   "metadata": {},
   "outputs": [],
   "source": [
    "import sagemaker\n",
    "\n",
    "session = sagemaker.Session()\n",
    "role = sagemaker.get_execution_role()\n",
    "\n",
    "s3_output_path = 's3://rsjainaimlmodels/bikerental/output'"
   ]
  },
  {
   "cell_type": "markdown",
   "metadata": {},
   "source": [
    "## Get Container Reference & ECR Registry Path"
   ]
  },
  {
   "cell_type": "code",
   "execution_count": 4,
   "metadata": {},
   "outputs": [
    {
     "name": "stdout",
     "output_type": "stream",
     "text": [
      "683313688378.dkr.ecr.us-east-1.amazonaws.com/sagemaker-xgboost:0.90-1-cpu-py3\n"
     ]
    }
   ],
   "source": [
    "#get reference to the docker container specifying region, algorithm and it's desired version\n",
    "container = sagemaker.amazon.amazon_estimator.get_image_uri(\n",
    "            session.boto_region_name,\n",
    "            \"xgboost\",\n",
    "            \"0.90-1\"\n",
    "            )\n",
    "\n",
    "print (container)"
   ]
  },
  {
   "cell_type": "markdown",
   "metadata": {},
   "source": [
    "# Build Model"
   ]
  },
  {
   "cell_type": "markdown",
   "metadata": {},
   "source": [
    "## define estimator"
   ]
  },
  {
   "cell_type": "code",
   "execution_count": 7,
   "metadata": {},
   "outputs": [],
   "source": [
    "xgboostEstimator = sagemaker.estimator.Estimator(\n",
    "                container,\n",
    "                role,\n",
    "                train_instance_type='ml.m4.xlarge',\n",
    "                train_instance_count=1,\n",
    "                output_path = s3_output_path,\n",
    "                sagemaker_session = session,\n",
    "                base_job_name = 'xgboost-bikerentail-v1'\n",
    "            )"
   ]
  },
  {
   "cell_type": "markdown",
   "metadata": {},
   "source": [
    "## define hyperparameters"
   ]
  },
  {
   "cell_type": "code",
   "execution_count": 15,
   "metadata": {},
   "outputs": [
    {
     "data": {
      "text/plain": [
       "{'max_depth': 5, 'num_round': 150, 'objective': 'reg:linear'}"
      ]
     },
     "execution_count": 15,
     "metadata": {},
     "output_type": "execute_result"
    }
   ],
   "source": [
    "xgboostEstimator.set_hyperparameters(max_depth=5, \n",
    "                                     objective='reg:squarederror',\n",
    "                                     num_round=150)\n",
    "xgboostEstimator.hyperparameters()"
   ]
  },
  {
   "cell_type": "markdown",
   "metadata": {},
   "source": [
    "## set training & validation data paths"
   ]
  },
  {
   "cell_type": "code",
   "execution_count": 22,
   "metadata": {},
   "outputs": [],
   "source": [
    "training_input_config = sagemaker.session.s3_input(s3_data='s3://rsjainaimlmodels/bikerental/train/',\n",
    "                                                   content_type='csv',\n",
    "                                                   s3_data_type='S3Prefix',\n",
    "                                                   input_mode='Pipe'\n",
    "                                               )\n",
    "\n",
    "validation_input_config = sagemaker.session.s3_input(s3_data='s3://rsjainaimlmodels/bikerental/val/',\n",
    "                                                     content_type='csv',\n",
    "                                                     s3_data_type='S3Prefix',\n",
    "                                                     input_mode='Pipe')\n",
    "\n",
    "data_channels = {'train':training_input_config,\n",
    "                 'validation':validation_input_config}"
   ]
  },
  {
   "cell_type": "code",
   "execution_count": 23,
   "metadata": {},
   "outputs": [
    {
     "name": "stdout",
     "output_type": "stream",
     "text": [
      "{'DataSource': {'S3DataSource': {'S3DataType': 'S3Prefix', 'S3Uri': 's3://rsjainaimlmodels/bikerental/train/', 'S3DataDistributionType': 'FullyReplicated'}}, 'ContentType': 'csv', 'InputMode': 'Pipe'}\n"
     ]
    }
   ],
   "source": [
    "print (training_input_config.config)"
   ]
  },
  {
   "cell_type": "markdown",
   "metadata": {},
   "source": [
    "## Train the model"
   ]
  },
  {
   "cell_type": "code",
   "execution_count": 26,
   "metadata": {},
   "outputs": [
    {
     "name": "stdout",
     "output_type": "stream",
     "text": [
      "2020-05-15 19:48:11 Starting - Starting the training job...\n",
      "2020-05-15 19:48:14 Starting - Launching requested ML instances.........\n",
      "2020-05-15 19:49:54 Starting - Preparing the instances for training......\n",
      "2020-05-15 19:50:43 Downloading - Downloading input data...\n",
      "2020-05-15 19:51:38 Training - Training image download completed. Training in progress.\n",
      "2020-05-15 19:51:38 Uploading - Uploading generated training model.\u001b[34mINFO:sagemaker-containers:Imported framework sagemaker_xgboost_container.training\u001b[0m\n",
      "\u001b[34mINFO:sagemaker-containers:Failed to parse hyperparameter objective value reg:linear to Json.\u001b[0m\n",
      "\u001b[34mReturning the value itself\u001b[0m\n",
      "\u001b[34mINFO:sagemaker-containers:No GPUs detected (normal if no gpus installed)\u001b[0m\n",
      "\u001b[34mINFO:sagemaker_xgboost_container.training:Running XGBoost Sagemaker in algorithm mode\u001b[0m\n",
      "\u001b[34mINFO:root:Pipe path /opt/ml/input/data/train found.\u001b[0m\n",
      "\u001b[34mINFO:root:Pipe path /opt/ml/input/data/validation found.\u001b[0m\n",
      "\u001b[34mINFO:root:Single node training.\u001b[0m\n",
      "\u001b[34mINFO:root:Train matrix has 8709 rows\u001b[0m\n",
      "\u001b[34mINFO:root:Validation matrix has 2177 rows\u001b[0m\n",
      "\u001b[34m[19:51:35] WARNING: /workspace/src/objective/regression_obj.cu:152: reg:linear is now deprecated in favor of reg:squarederror.\u001b[0m\n",
      "\u001b[34m[0]#011train-rmse:182.551#011validation-rmse:266.803\u001b[0m\n",
      "\u001b[34m[1]#011train-rmse:144.232#011validation-rmse:223.092\u001b[0m\n",
      "\u001b[34m[2]#011train-rmse:120.316#011validation-rmse:188.573\u001b[0m\n",
      "\u001b[34m[3]#011train-rmse:104.493#011validation-rmse:169.367\u001b[0m\n",
      "\u001b[34m[4]#011train-rmse:90.4182#011validation-rmse:151.682\u001b[0m\n",
      "\u001b[34m[5]#011train-rmse:81.8678#011validation-rmse:138.517\u001b[0m\n",
      "\u001b[34m[6]#011train-rmse:68.0838#011validation-rmse:120.335\u001b[0m\n",
      "\u001b[34m[7]#011train-rmse:64.1408#011validation-rmse:113.164\u001b[0m\n",
      "\u001b[34m[8]#011train-rmse:56.1944#011validation-rmse:100.775\u001b[0m\n",
      "\u001b[34m[9]#011train-rmse:54.1974#011validation-rmse:97.5743\u001b[0m\n",
      "\u001b[34m[10]#011train-rmse:51.0357#011validation-rmse:94.2121\u001b[0m\n",
      "\u001b[34m[11]#011train-rmse:50.0739#011validation-rmse:93.1477\u001b[0m\n",
      "\u001b[34m[12]#011train-rmse:47.3237#011validation-rmse:88.3722\u001b[0m\n",
      "\u001b[34m[13]#011train-rmse:46.7078#011validation-rmse:87.2011\u001b[0m\n",
      "\u001b[34m[14]#011train-rmse:46.0689#011validation-rmse:86.3625\u001b[0m\n",
      "\u001b[34m[15]#011train-rmse:43.5248#011validation-rmse:82.2829\u001b[0m\n",
      "\u001b[34m[16]#011train-rmse:43.0888#011validation-rmse:81.9784\u001b[0m\n",
      "\u001b[34m[17]#011train-rmse:42.6086#011validation-rmse:81.2649\u001b[0m\n",
      "\u001b[34m[18]#011train-rmse:41.2368#011validation-rmse:79.1199\u001b[0m\n",
      "\u001b[34m[19]#011train-rmse:40.8248#011validation-rmse:78.5796\u001b[0m\n",
      "\u001b[34m[20]#011train-rmse:40.5661#011validation-rmse:78.1553\u001b[0m\n",
      "\u001b[34m[21]#011train-rmse:40.1071#011validation-rmse:78.0499\u001b[0m\n",
      "\u001b[34m[22]#011train-rmse:39.7823#011validation-rmse:77.8097\u001b[0m\n",
      "\u001b[34m[23]#011train-rmse:39.5683#011validation-rmse:77.1274\u001b[0m\n",
      "\u001b[34m[24]#011train-rmse:38.6347#011validation-rmse:75.4401\u001b[0m\n",
      "\u001b[34m[25]#011train-rmse:38.3996#011validation-rmse:75.2787\u001b[0m\n",
      "\u001b[34m[26]#011train-rmse:38.1336#011validation-rmse:74.6671\u001b[0m\n",
      "\u001b[34m[27]#011train-rmse:38.0293#011validation-rmse:74.4636\u001b[0m\n",
      "\u001b[34m[28]#011train-rmse:37.7617#011validation-rmse:74.2542\u001b[0m\n",
      "\u001b[34m[29]#011train-rmse:37.5787#011validation-rmse:74.1654\u001b[0m\n",
      "\u001b[34m[30]#011train-rmse:37.4696#011validation-rmse:74.0672\u001b[0m\n",
      "\u001b[34m[31]#011train-rmse:37.3565#011validation-rmse:73.823\u001b[0m\n",
      "\u001b[34m[32]#011train-rmse:37.1558#011validation-rmse:73.7668\u001b[0m\n",
      "\u001b[34m[33]#011train-rmse:36.8542#011validation-rmse:73.6993\u001b[0m\n",
      "\u001b[34m[34]#011train-rmse:36.4575#011validation-rmse:73.0081\u001b[0m\n",
      "\u001b[34m[35]#011train-rmse:36.3542#011validation-rmse:73.1002\u001b[0m\n",
      "\u001b[34m[36]#011train-rmse:36.0724#011validation-rmse:72.5296\u001b[0m\n",
      "\u001b[34m[37]#011train-rmse:35.9372#011validation-rmse:72.3155\u001b[0m\n",
      "\u001b[34m[38]#011train-rmse:35.7723#011validation-rmse:72.466\u001b[0m\n",
      "\u001b[34m[39]#011train-rmse:35.5157#011validation-rmse:72.5495\u001b[0m\n",
      "\u001b[34m[40]#011train-rmse:35.1999#011validation-rmse:72.2626\u001b[0m\n",
      "\u001b[34m[41]#011train-rmse:35.1433#011validation-rmse:72.1579\u001b[0m\n",
      "\u001b[34m[42]#011train-rmse:34.9575#011validation-rmse:69.0493\u001b[0m\n",
      "\u001b[34m[43]#011train-rmse:34.821#011validation-rmse:68.9842\u001b[0m\n",
      "\u001b[34m[44]#011train-rmse:34.7673#011validation-rmse:68.9764\u001b[0m\n",
      "\u001b[34m[45]#011train-rmse:34.539#011validation-rmse:68.691\u001b[0m\n",
      "\u001b[34m[46]#011train-rmse:34.4583#011validation-rmse:68.639\u001b[0m\n",
      "\u001b[34m[47]#011train-rmse:34.2652#011validation-rmse:68.6902\u001b[0m\n",
      "\u001b[34m[48]#011train-rmse:34.0725#011validation-rmse:68.5443\u001b[0m\n",
      "\u001b[34m[49]#011train-rmse:33.8147#011validation-rmse:68.5724\u001b[0m\n",
      "\u001b[34m[50]#011train-rmse:33.5868#011validation-rmse:68.5485\u001b[0m\n",
      "\u001b[34m[51]#011train-rmse:33.336#011validation-rmse:68.6387\u001b[0m\n",
      "\u001b[34m[52]#011train-rmse:33.025#011validation-rmse:68.2888\u001b[0m\n",
      "\u001b[34m[53]#011train-rmse:32.8904#011validation-rmse:68.2925\u001b[0m\n",
      "\u001b[34m[54]#011train-rmse:32.7921#011validation-rmse:68.2257\u001b[0m\n",
      "\u001b[34m[55]#011train-rmse:32.6412#011validation-rmse:68.2302\u001b[0m\n",
      "\u001b[34m[56]#011train-rmse:32.6273#011validation-rmse:68.2309\u001b[0m\n",
      "\u001b[34m[57]#011train-rmse:32.601#011validation-rmse:68.2544\u001b[0m\n",
      "\u001b[34m[58]#011train-rmse:32.3878#011validation-rmse:68.2965\u001b[0m\n",
      "\u001b[34m[59]#011train-rmse:32.3528#011validation-rmse:68.3047\u001b[0m\n",
      "\u001b[34m[60]#011train-rmse:32.1643#011validation-rmse:68.3804\u001b[0m\n",
      "\u001b[34m[61]#011train-rmse:31.9917#011validation-rmse:68.4627\u001b[0m\n",
      "\u001b[34m[62]#011train-rmse:31.807#011validation-rmse:68.2325\u001b[0m\n",
      "\u001b[34m[63]#011train-rmse:31.6451#011validation-rmse:68.11\u001b[0m\n",
      "\u001b[34m[64]#011train-rmse:31.6136#011validation-rmse:68.114\u001b[0m\n",
      "\u001b[34m[65]#011train-rmse:31.5384#011validation-rmse:68.1827\u001b[0m\n",
      "\u001b[34m[66]#011train-rmse:31.468#011validation-rmse:68.1759\u001b[0m\n",
      "\u001b[34m[67]#011train-rmse:31.4396#011validation-rmse:68.1461\u001b[0m\n",
      "\u001b[34m[68]#011train-rmse:31.3223#011validation-rmse:68.1508\u001b[0m\n",
      "\u001b[34m[69]#011train-rmse:31.1106#011validation-rmse:67.7637\u001b[0m\n",
      "\u001b[34m[70]#011train-rmse:30.975#011validation-rmse:67.7307\u001b[0m\n",
      "\u001b[34m[71]#011train-rmse:30.8864#011validation-rmse:67.6231\u001b[0m\n",
      "\u001b[34m[72]#011train-rmse:30.8188#011validation-rmse:67.6305\u001b[0m\n",
      "\u001b[34m[73]#011train-rmse:30.6673#011validation-rmse:67.625\u001b[0m\n",
      "\u001b[34m[74]#011train-rmse:30.54#011validation-rmse:67.5994\u001b[0m\n",
      "\u001b[34m[75]#011train-rmse:30.451#011validation-rmse:67.4256\u001b[0m\n",
      "\u001b[34m[76]#011train-rmse:30.2986#011validation-rmse:67.3562\u001b[0m\n",
      "\u001b[34m[77]#011train-rmse:30.1874#011validation-rmse:67.4674\u001b[0m\n",
      "\u001b[34m[78]#011train-rmse:29.9748#011validation-rmse:67.3519\u001b[0m\n",
      "\u001b[34m[79]#011train-rmse:29.7795#011validation-rmse:67.3654\u001b[0m\n",
      "\u001b[34m[80]#011train-rmse:29.7708#011validation-rmse:67.3616\u001b[0m\n",
      "\u001b[34m[81]#011train-rmse:29.7275#011validation-rmse:67.299\u001b[0m\n",
      "\u001b[34m[82]#011train-rmse:29.7135#011validation-rmse:67.2875\u001b[0m\n",
      "\u001b[34m[83]#011train-rmse:29.6188#011validation-rmse:67.2353\u001b[0m\n",
      "\u001b[34m[84]#011train-rmse:29.5403#011validation-rmse:67.1223\u001b[0m\n",
      "\u001b[34m[85]#011train-rmse:29.3644#011validation-rmse:67.2317\u001b[0m\n",
      "\u001b[34m[86]#011train-rmse:29.2751#011validation-rmse:67.2884\u001b[0m\n",
      "\u001b[34m[87]#011train-rmse:29.2286#011validation-rmse:67.2797\u001b[0m\n",
      "\u001b[34m[88]#011train-rmse:29.1499#011validation-rmse:67.2062\u001b[0m\n",
      "\u001b[34m[89]#011train-rmse:29.0501#011validation-rmse:67.2392\u001b[0m\n",
      "\u001b[34m[90]#011train-rmse:28.9572#011validation-rmse:67.2438\u001b[0m\n",
      "\u001b[34m[91]#011train-rmse:28.9485#011validation-rmse:67.2429\u001b[0m\n",
      "\u001b[34m[92]#011train-rmse:28.854#011validation-rmse:67.276\u001b[0m\n",
      "\u001b[34m[93]#011train-rmse:28.8029#011validation-rmse:67.2932\u001b[0m\n",
      "\u001b[34m[94]#011train-rmse:28.7488#011validation-rmse:67.3116\u001b[0m\n",
      "\u001b[34m[95]#011train-rmse:28.7457#011validation-rmse:67.2978\u001b[0m\n",
      "\u001b[34m[96]#011train-rmse:28.674#011validation-rmse:67.2385\u001b[0m\n",
      "\u001b[34m[97]#011train-rmse:28.6391#011validation-rmse:67.2302\u001b[0m\n",
      "\u001b[34m[98]#011train-rmse:28.637#011validation-rmse:67.2284\u001b[0m\n",
      "\u001b[34m[99]#011train-rmse:28.6319#011validation-rmse:67.2294\u001b[0m\n",
      "\u001b[34m[100]#011train-rmse:28.5705#011validation-rmse:67.1056\u001b[0m\n",
      "\u001b[34m[101]#011train-rmse:28.5187#011validation-rmse:67.1502\u001b[0m\n",
      "\u001b[34m[102]#011train-rmse:28.4483#011validation-rmse:67.1443\u001b[0m\n",
      "\u001b[34m[103]#011train-rmse:28.3731#011validation-rmse:67.1512\u001b[0m\n",
      "\u001b[34m[104]#011train-rmse:28.3102#011validation-rmse:67.1582\u001b[0m\n",
      "\u001b[34m[105]#011train-rmse:28.2058#011validation-rmse:67.1188\u001b[0m\n",
      "\u001b[34m[106]#011train-rmse:28.1099#011validation-rmse:67.1125\u001b[0m\n",
      "\u001b[34m[107]#011train-rmse:27.9136#011validation-rmse:66.8712\u001b[0m\n",
      "\u001b[34m[108]#011train-rmse:27.8391#011validation-rmse:66.8759\u001b[0m\n",
      "\u001b[34m[109]#011train-rmse:27.6738#011validation-rmse:66.802\u001b[0m\n",
      "\u001b[34m[110]#011train-rmse:27.4794#011validation-rmse:66.736\u001b[0m\n",
      "\u001b[34m[111]#011train-rmse:27.4172#011validation-rmse:66.8545\u001b[0m\n",
      "\u001b[34m[112]#011train-rmse:27.3441#011validation-rmse:66.8587\u001b[0m\n",
      "\u001b[34m[113]#011train-rmse:27.2053#011validation-rmse:66.8295\u001b[0m\n",
      "\u001b[34m[114]#011train-rmse:27.1324#011validation-rmse:66.8708\u001b[0m\n",
      "\u001b[34m[115]#011train-rmse:27.0859#011validation-rmse:66.6681\u001b[0m\n",
      "\u001b[34m[116]#011train-rmse:26.9777#011validation-rmse:66.6042\u001b[0m\n",
      "\u001b[34m[117]#011train-rmse:26.9504#011validation-rmse:66.5946\u001b[0m\n",
      "\u001b[34m[118]#011train-rmse:26.9058#011validation-rmse:66.5578\u001b[0m\n",
      "\u001b[34m[119]#011train-rmse:26.854#011validation-rmse:66.5363\u001b[0m\n",
      "\u001b[34m[120]#011train-rmse:26.7564#011validation-rmse:66.6095\u001b[0m\n",
      "\u001b[34m[121]#011train-rmse:26.6776#011validation-rmse:66.6126\u001b[0m\n",
      "\u001b[34m[122]#011train-rmse:26.5833#011validation-rmse:66.2959\u001b[0m\n",
      "\u001b[34m[123]#011train-rmse:26.4925#011validation-rmse:66.2988\u001b[0m\n",
      "\u001b[34m[124]#011train-rmse:26.4597#011validation-rmse:66.3589\u001b[0m\n",
      "\u001b[34m[125]#011train-rmse:26.3589#011validation-rmse:66.2725\u001b[0m\n",
      "\u001b[34m[126]#011train-rmse:26.3013#011validation-rmse:66.1103\u001b[0m\n",
      "\u001b[34m[127]#011train-rmse:26.292#011validation-rmse:66.1032\u001b[0m\n",
      "\u001b[34m[128]#011train-rmse:26.2843#011validation-rmse:66.1019\u001b[0m\n",
      "\u001b[34m[129]#011train-rmse:26.196#011validation-rmse:66.0229\u001b[0m\n",
      "\u001b[34m[130]#011train-rmse:26.1286#011validation-rmse:66.0399\u001b[0m\n",
      "\u001b[34m[131]#011train-rmse:26.082#011validation-rmse:66.0465\u001b[0m\n",
      "\u001b[34m[132]#011train-rmse:26.0236#011validation-rmse:66.0304\u001b[0m\n",
      "\u001b[34m[133]#011train-rmse:25.9427#011validation-rmse:66.0383\u001b[0m\n",
      "\u001b[34m[134]#011train-rmse:25.8343#011validation-rmse:65.9195\u001b[0m\n",
      "\u001b[34m[135]#011train-rmse:25.7728#011validation-rmse:66.0081\u001b[0m\n",
      "\u001b[34m[136]#011train-rmse:25.662#011validation-rmse:66.0476\u001b[0m\n",
      "\u001b[34m[137]#011train-rmse:25.5883#011validation-rmse:66.0866\u001b[0m\n",
      "\u001b[34m[138]#011train-rmse:25.5612#011validation-rmse:66.1158\u001b[0m\n",
      "\u001b[34m[139]#011train-rmse:25.4677#011validation-rmse:66.0542\u001b[0m\n",
      "\u001b[34m[140]#011train-rmse:25.4066#011validation-rmse:65.6424\u001b[0m\n",
      "\u001b[34m[141]#011train-rmse:25.3675#011validation-rmse:65.6217\u001b[0m\n",
      "\u001b[34m[142]#011train-rmse:25.314#011validation-rmse:65.5934\u001b[0m\n",
      "\u001b[34m[143]#011train-rmse:25.2873#011validation-rmse:65.3639\u001b[0m\n",
      "\u001b[34m[144]#011train-rmse:25.2706#011validation-rmse:65.4075\u001b[0m\n",
      "\u001b[34m[145]#011train-rmse:25.2226#011validation-rmse:65.4511\u001b[0m\n",
      "\u001b[34m[146]#011train-rmse:25.2123#011validation-rmse:65.4351\u001b[0m\n",
      "\u001b[34m[147]#011train-rmse:25.181#011validation-rmse:65.4777\u001b[0m\n",
      "\u001b[34m[148]#011train-rmse:25.1188#011validation-rmse:65.48\u001b[0m\n",
      "\u001b[34m[149]#011train-rmse:25.1002#011validation-rmse:65.4887\u001b[0m\n"
     ]
    },
    {
     "name": "stdout",
     "output_type": "stream",
     "text": [
      "\n",
      "2020-05-15 19:51:45 Completed - Training job completed\n",
      "Training seconds: 62\n",
      "Billable seconds: 62\n"
     ]
    }
   ],
   "source": [
    "xgboostEstimator.fit(data_channels)"
   ]
  },
  {
   "cell_type": "markdown",
   "metadata": {},
   "source": [
    "## Deploy the model"
   ]
  },
  {
   "cell_type": "code",
   "execution_count": 28,
   "metadata": {},
   "outputs": [
    {
     "name": "stdout",
     "output_type": "stream",
     "text": [
      "---------------!"
     ]
    }
   ],
   "source": [
    "predictor = xgboostEstimator.deploy(initial_instance_count=1,\n",
    "                                    instance_type='ml.m4.xlarge',\n",
    "                                    endpoint_name='xgboost-bikerental-v1')"
   ]
  },
  {
   "cell_type": "code",
   "execution_count": 29,
   "metadata": {},
   "outputs": [
    {
     "name": "stdout",
     "output_type": "stream",
     "text": [
      "xgboost-bikerental-v1\n"
     ]
    }
   ],
   "source": [
    "print (predictor.endpoint)"
   ]
  },
  {
   "cell_type": "markdown",
   "metadata": {},
   "source": [
    "## Run Predictions"
   ]
  },
  {
   "cell_type": "code",
   "execution_count": 30,
   "metadata": {},
   "outputs": [],
   "source": [
    "from sagemaker.predictor import csv_serializer\n",
    "\n",
    "predictor.content_type='csv'\n",
    "predictor.serializer=csv_serializer"
   ]
  },
  {
   "cell_type": "code",
   "execution_count": 31,
   "metadata": {},
   "outputs": [
    {
     "name": "stdout",
     "output_type": "stream",
     "text": [
      "b'34.38656234741211'\n"
     ]
    }
   ],
   "source": [
    "pred_booking_count=predictor.predict([1,0,0,1,9.84,14.395,81,0.0,2011,1,1,0,0,0])\n",
    "print (pred_booking_count)"
   ]
  },
  {
   "cell_type": "markdown",
   "metadata": {},
   "source": [
    "## Run Predictions on Test Data"
   ]
  },
  {
   "cell_type": "code",
   "execution_count": null,
   "metadata": {},
   "outputs": [],
   "source": []
  }
 ],
 "metadata": {
  "kernelspec": {
   "display_name": "conda_tensorflow_p36",
   "language": "python",
   "name": "conda_tensorflow_p36"
  },
  "language_info": {
   "codemirror_mode": {
    "name": "ipython",
    "version": 3
   },
   "file_extension": ".py",
   "mimetype": "text/x-python",
   "name": "python",
   "nbconvert_exporter": "python",
   "pygments_lexer": "ipython3",
   "version": "3.6.6"
  }
 },
 "nbformat": 4,
 "nbformat_minor": 4
}
