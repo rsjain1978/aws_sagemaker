{
 "cells": [
  {
   "cell_type": "code",
   "execution_count": 1,
   "metadata": {},
   "outputs": [
    {
     "name": "stdout",
     "output_type": "stream",
     "text": [
      "Requirement already satisfied: xgboost in c:\\machinelearning\\anaconda3\\envs\\tf2-gpu\\lib\\site-packages (1.0.2)\n",
      "Requirement already satisfied: numpy in c:\\machinelearning\\anaconda3\\envs\\tf2-gpu\\lib\\site-packages (from xgboost) (1.18.1)\n",
      "Requirement already satisfied: scipy in c:\\machinelearning\\anaconda3\\envs\\tf2-gpu\\lib\\site-packages (from xgboost) (1.4.1)\n"
     ]
    }
   ],
   "source": [
    "!pip install xgboost"
   ]
  },
  {
   "cell_type": "code",
   "execution_count": 2,
   "metadata": {},
   "outputs": [],
   "source": [
    "import xgboost as xgb\n",
    "\n",
    "import pandas as pd\n",
    "import numpy as np\n",
    "from numpy.random import rand, randint, randn\n",
    "import matplotlib.pyplot as plt\n",
    "%matplotlib inline"
   ]
  },
  {
   "cell_type": "code",
   "execution_count": 3,
   "metadata": {},
   "outputs": [],
   "source": [
    "# read individual files\n",
    "df_train = pd.read_csv('./data/bike_rental_train.csv')\n",
    "df_val = pd.read_csv('./data/bike_rental_val.csv')"
   ]
  },
  {
   "cell_type": "code",
   "execution_count": 4,
   "metadata": {},
   "outputs": [
    {
     "data": {
      "text/html": [
       "<div>\n",
       "<style scoped>\n",
       "    .dataframe tbody tr th:only-of-type {\n",
       "        vertical-align: middle;\n",
       "    }\n",
       "\n",
       "    .dataframe tbody tr th {\n",
       "        vertical-align: top;\n",
       "    }\n",
       "\n",
       "    .dataframe thead th {\n",
       "        text-align: right;\n",
       "    }\n",
       "</style>\n",
       "<table border=\"1\" class=\"dataframe\">\n",
       "  <thead>\n",
       "    <tr style=\"text-align: right;\">\n",
       "      <th></th>\n",
       "      <th>count</th>\n",
       "      <th>season</th>\n",
       "      <th>holiday</th>\n",
       "      <th>workingday</th>\n",
       "      <th>weather</th>\n",
       "      <th>temp</th>\n",
       "      <th>atemp</th>\n",
       "      <th>humidity</th>\n",
       "      <th>windspeed</th>\n",
       "      <th>year</th>\n",
       "      <th>month</th>\n",
       "      <th>day</th>\n",
       "      <th>hour</th>\n",
       "      <th>minute</th>\n",
       "      <th>second</th>\n",
       "    </tr>\n",
       "  </thead>\n",
       "  <tbody>\n",
       "    <tr>\n",
       "      <th>0</th>\n",
       "      <td>16</td>\n",
       "      <td>1</td>\n",
       "      <td>0</td>\n",
       "      <td>0</td>\n",
       "      <td>1</td>\n",
       "      <td>9.84</td>\n",
       "      <td>14.395</td>\n",
       "      <td>81</td>\n",
       "      <td>0.0</td>\n",
       "      <td>2011</td>\n",
       "      <td>1</td>\n",
       "      <td>1</td>\n",
       "      <td>0</td>\n",
       "      <td>0</td>\n",
       "      <td>0</td>\n",
       "    </tr>\n",
       "    <tr>\n",
       "      <th>1</th>\n",
       "      <td>40</td>\n",
       "      <td>1</td>\n",
       "      <td>0</td>\n",
       "      <td>0</td>\n",
       "      <td>1</td>\n",
       "      <td>9.02</td>\n",
       "      <td>13.635</td>\n",
       "      <td>80</td>\n",
       "      <td>0.0</td>\n",
       "      <td>2011</td>\n",
       "      <td>1</td>\n",
       "      <td>1</td>\n",
       "      <td>1</td>\n",
       "      <td>0</td>\n",
       "      <td>0</td>\n",
       "    </tr>\n",
       "    <tr>\n",
       "      <th>2</th>\n",
       "      <td>32</td>\n",
       "      <td>1</td>\n",
       "      <td>0</td>\n",
       "      <td>0</td>\n",
       "      <td>1</td>\n",
       "      <td>9.02</td>\n",
       "      <td>13.635</td>\n",
       "      <td>80</td>\n",
       "      <td>0.0</td>\n",
       "      <td>2011</td>\n",
       "      <td>1</td>\n",
       "      <td>1</td>\n",
       "      <td>2</td>\n",
       "      <td>0</td>\n",
       "      <td>0</td>\n",
       "    </tr>\n",
       "    <tr>\n",
       "      <th>3</th>\n",
       "      <td>13</td>\n",
       "      <td>1</td>\n",
       "      <td>0</td>\n",
       "      <td>0</td>\n",
       "      <td>1</td>\n",
       "      <td>9.84</td>\n",
       "      <td>14.395</td>\n",
       "      <td>75</td>\n",
       "      <td>0.0</td>\n",
       "      <td>2011</td>\n",
       "      <td>1</td>\n",
       "      <td>1</td>\n",
       "      <td>3</td>\n",
       "      <td>0</td>\n",
       "      <td>0</td>\n",
       "    </tr>\n",
       "    <tr>\n",
       "      <th>4</th>\n",
       "      <td>1</td>\n",
       "      <td>1</td>\n",
       "      <td>0</td>\n",
       "      <td>0</td>\n",
       "      <td>1</td>\n",
       "      <td>9.84</td>\n",
       "      <td>14.395</td>\n",
       "      <td>75</td>\n",
       "      <td>0.0</td>\n",
       "      <td>2011</td>\n",
       "      <td>1</td>\n",
       "      <td>1</td>\n",
       "      <td>4</td>\n",
       "      <td>0</td>\n",
       "      <td>0</td>\n",
       "    </tr>\n",
       "  </tbody>\n",
       "</table>\n",
       "</div>"
      ],
      "text/plain": [
       "   count  season  holiday  workingday  weather  temp   atemp  humidity  \\\n",
       "0     16       1        0           0        1  9.84  14.395        81   \n",
       "1     40       1        0           0        1  9.02  13.635        80   \n",
       "2     32       1        0           0        1  9.02  13.635        80   \n",
       "3     13       1        0           0        1  9.84  14.395        75   \n",
       "4      1       1        0           0        1  9.84  14.395        75   \n",
       "\n",
       "   windspeed  year  month  day  hour  minute  second  \n",
       "0        0.0  2011      1    1     0       0       0  \n",
       "1        0.0  2011      1    1     1       0       0  \n",
       "2        0.0  2011      1    1     2       0       0  \n",
       "3        0.0  2011      1    1     3       0       0  \n",
       "4        0.0  2011      1    1     4       0       0  "
      ]
     },
     "execution_count": 4,
     "metadata": {},
     "output_type": "execute_result"
    }
   ],
   "source": [
    "df_train.head()"
   ]
  },
  {
   "cell_type": "code",
   "execution_count": 5,
   "metadata": {},
   "outputs": [],
   "source": [
    "x_train = df_train.iloc[:,1:]\n",
    "y_train = df_train.iloc[:,0].to_numpy().reshape(-1,1)\n",
    "\n",
    "x_val = df_val.iloc[:,1:]\n",
    "y_val = df_val.iloc[:,0].to_numpy().reshape(-1,1)"
   ]
  },
  {
   "cell_type": "markdown",
   "metadata": {},
   "source": [
    "## XGBoost Model"
   ]
  },
  {
   "cell_type": "code",
   "execution_count": 6,
   "metadata": {},
   "outputs": [
    {
     "name": "stdout",
     "output_type": "stream",
     "text": [
      "[0]\tvalidation_0-rmse:182.55084\tvalidation_1-rmse:266.80255\n",
      "[1]\tvalidation_0-rmse:144.23192\tvalidation_1-rmse:223.09170\n",
      "[2]\tvalidation_0-rmse:120.31563\tvalidation_1-rmse:188.57344\n",
      "[3]\tvalidation_0-rmse:104.49299\tvalidation_1-rmse:169.36700\n",
      "[4]\tvalidation_0-rmse:90.41820\tvalidation_1-rmse:151.68173\n",
      "[5]\tvalidation_0-rmse:81.86784\tvalidation_1-rmse:138.51712\n",
      "[6]\tvalidation_0-rmse:68.08382\tvalidation_1-rmse:120.33463\n",
      "[7]\tvalidation_0-rmse:64.14084\tvalidation_1-rmse:113.16357\n",
      "[8]\tvalidation_0-rmse:56.19441\tvalidation_1-rmse:100.77466\n",
      "[9]\tvalidation_0-rmse:54.19736\tvalidation_1-rmse:97.57430\n",
      "[10]\tvalidation_0-rmse:51.03572\tvalidation_1-rmse:94.21206\n",
      "[11]\tvalidation_0-rmse:50.07395\tvalidation_1-rmse:93.14770\n",
      "[12]\tvalidation_0-rmse:47.32370\tvalidation_1-rmse:88.37216\n",
      "[13]\tvalidation_0-rmse:46.70779\tvalidation_1-rmse:87.20106\n",
      "[14]\tvalidation_0-rmse:46.06892\tvalidation_1-rmse:86.36249\n",
      "[15]\tvalidation_0-rmse:43.52477\tvalidation_1-rmse:82.28291\n",
      "[16]\tvalidation_0-rmse:43.08879\tvalidation_1-rmse:81.97837\n",
      "[17]\tvalidation_0-rmse:42.60863\tvalidation_1-rmse:81.26489\n",
      "[18]\tvalidation_0-rmse:41.23676\tvalidation_1-rmse:79.11990\n",
      "[19]\tvalidation_0-rmse:40.82479\tvalidation_1-rmse:78.57964\n",
      "[20]\tvalidation_0-rmse:40.56610\tvalidation_1-rmse:78.15525\n",
      "[21]\tvalidation_0-rmse:40.10715\tvalidation_1-rmse:78.04987\n",
      "[22]\tvalidation_0-rmse:39.78234\tvalidation_1-rmse:77.80975\n",
      "[23]\tvalidation_0-rmse:39.56828\tvalidation_1-rmse:77.12740\n",
      "[24]\tvalidation_0-rmse:38.63469\tvalidation_1-rmse:75.44009\n",
      "[25]\tvalidation_0-rmse:38.39958\tvalidation_1-rmse:75.27875\n",
      "[26]\tvalidation_0-rmse:38.13359\tvalidation_1-rmse:74.66711\n",
      "[27]\tvalidation_0-rmse:38.02925\tvalidation_1-rmse:74.46362\n",
      "[28]\tvalidation_0-rmse:37.76174\tvalidation_1-rmse:74.25419\n",
      "[29]\tvalidation_0-rmse:37.57868\tvalidation_1-rmse:74.16544\n",
      "[30]\tvalidation_0-rmse:37.46959\tvalidation_1-rmse:74.06717\n",
      "[31]\tvalidation_0-rmse:37.35648\tvalidation_1-rmse:73.82303\n",
      "[32]\tvalidation_0-rmse:37.15577\tvalidation_1-rmse:73.76684\n",
      "[33]\tvalidation_0-rmse:36.85423\tvalidation_1-rmse:73.69930\n",
      "[34]\tvalidation_0-rmse:36.45747\tvalidation_1-rmse:73.00815\n",
      "[35]\tvalidation_0-rmse:36.35416\tvalidation_1-rmse:73.10020\n",
      "[36]\tvalidation_0-rmse:36.07239\tvalidation_1-rmse:72.52959\n",
      "[37]\tvalidation_0-rmse:35.93723\tvalidation_1-rmse:72.31548\n",
      "[38]\tvalidation_0-rmse:35.77228\tvalidation_1-rmse:72.46603\n",
      "[39]\tvalidation_0-rmse:35.51574\tvalidation_1-rmse:72.54950\n",
      "[40]\tvalidation_0-rmse:35.19991\tvalidation_1-rmse:72.26263\n",
      "[41]\tvalidation_0-rmse:35.14334\tvalidation_1-rmse:72.15793\n",
      "[42]\tvalidation_0-rmse:34.95748\tvalidation_1-rmse:69.04931\n",
      "[43]\tvalidation_0-rmse:34.82104\tvalidation_1-rmse:68.98415\n",
      "[44]\tvalidation_0-rmse:34.76732\tvalidation_1-rmse:68.97639\n",
      "[45]\tvalidation_0-rmse:34.53902\tvalidation_1-rmse:68.69100\n",
      "[46]\tvalidation_0-rmse:34.45829\tvalidation_1-rmse:68.63896\n",
      "[47]\tvalidation_0-rmse:34.26518\tvalidation_1-rmse:68.69019\n",
      "[48]\tvalidation_0-rmse:34.07252\tvalidation_1-rmse:68.54434\n",
      "[49]\tvalidation_0-rmse:33.81474\tvalidation_1-rmse:68.57236\n",
      "[50]\tvalidation_0-rmse:33.58684\tvalidation_1-rmse:68.54854\n",
      "[51]\tvalidation_0-rmse:33.33602\tvalidation_1-rmse:68.63873\n",
      "[52]\tvalidation_0-rmse:33.02495\tvalidation_1-rmse:68.28877\n",
      "[53]\tvalidation_0-rmse:32.89036\tvalidation_1-rmse:68.29247\n",
      "[54]\tvalidation_0-rmse:32.79213\tvalidation_1-rmse:68.22575\n",
      "[55]\tvalidation_0-rmse:32.64122\tvalidation_1-rmse:68.23020\n",
      "[56]\tvalidation_0-rmse:32.62725\tvalidation_1-rmse:68.23091\n",
      "[57]\tvalidation_0-rmse:32.60096\tvalidation_1-rmse:68.25440\n",
      "[58]\tvalidation_0-rmse:32.38778\tvalidation_1-rmse:68.29649\n",
      "[59]\tvalidation_0-rmse:32.35280\tvalidation_1-rmse:68.30466\n",
      "[60]\tvalidation_0-rmse:32.16432\tvalidation_1-rmse:68.38043\n",
      "[61]\tvalidation_0-rmse:31.99173\tvalidation_1-rmse:68.46274\n",
      "[62]\tvalidation_0-rmse:31.80704\tvalidation_1-rmse:68.23249\n",
      "[63]\tvalidation_0-rmse:31.64515\tvalidation_1-rmse:68.11001\n",
      "[64]\tvalidation_0-rmse:31.61357\tvalidation_1-rmse:68.11401\n",
      "[65]\tvalidation_0-rmse:31.53841\tvalidation_1-rmse:68.18269\n",
      "[66]\tvalidation_0-rmse:31.46801\tvalidation_1-rmse:68.17594\n",
      "[67]\tvalidation_0-rmse:31.43958\tvalidation_1-rmse:68.14615\n",
      "[68]\tvalidation_0-rmse:31.32233\tvalidation_1-rmse:68.15079\n",
      "[69]\tvalidation_0-rmse:31.11063\tvalidation_1-rmse:67.76372\n",
      "[70]\tvalidation_0-rmse:30.97502\tvalidation_1-rmse:67.73068\n",
      "[71]\tvalidation_0-rmse:30.88640\tvalidation_1-rmse:67.62310\n",
      "[72]\tvalidation_0-rmse:30.81880\tvalidation_1-rmse:67.63050\n",
      "[73]\tvalidation_0-rmse:30.66727\tvalidation_1-rmse:67.62500\n",
      "[74]\tvalidation_0-rmse:30.54000\tvalidation_1-rmse:67.59940\n",
      "[75]\tvalidation_0-rmse:30.45095\tvalidation_1-rmse:67.42557\n",
      "[76]\tvalidation_0-rmse:30.29857\tvalidation_1-rmse:67.35622\n",
      "[77]\tvalidation_0-rmse:30.18738\tvalidation_1-rmse:67.46742\n",
      "[78]\tvalidation_0-rmse:29.97476\tvalidation_1-rmse:67.35185\n",
      "[79]\tvalidation_0-rmse:29.77954\tvalidation_1-rmse:67.36542\n",
      "[80]\tvalidation_0-rmse:29.77080\tvalidation_1-rmse:67.36165\n",
      "[81]\tvalidation_0-rmse:29.72748\tvalidation_1-rmse:67.29903\n",
      "[82]\tvalidation_0-rmse:29.71345\tvalidation_1-rmse:67.28750\n",
      "[83]\tvalidation_0-rmse:29.61879\tvalidation_1-rmse:67.23530\n",
      "[84]\tvalidation_0-rmse:29.54028\tvalidation_1-rmse:67.12231\n",
      "[85]\tvalidation_0-rmse:29.36437\tvalidation_1-rmse:67.23166\n",
      "[86]\tvalidation_0-rmse:29.27507\tvalidation_1-rmse:67.28841\n",
      "[87]\tvalidation_0-rmse:29.22862\tvalidation_1-rmse:67.27968\n",
      "[88]\tvalidation_0-rmse:29.14985\tvalidation_1-rmse:67.20620\n",
      "[89]\tvalidation_0-rmse:29.05013\tvalidation_1-rmse:67.23921\n",
      "[90]\tvalidation_0-rmse:28.95716\tvalidation_1-rmse:67.24379\n",
      "[91]\tvalidation_0-rmse:28.94846\tvalidation_1-rmse:67.24293\n",
      "[92]\tvalidation_0-rmse:28.85400\tvalidation_1-rmse:67.27596\n",
      "[93]\tvalidation_0-rmse:28.80293\tvalidation_1-rmse:67.29321\n",
      "[94]\tvalidation_0-rmse:28.74878\tvalidation_1-rmse:67.31156\n",
      "[95]\tvalidation_0-rmse:28.74573\tvalidation_1-rmse:67.29781\n",
      "[96]\tvalidation_0-rmse:28.67396\tvalidation_1-rmse:67.23850\n",
      "[97]\tvalidation_0-rmse:28.63911\tvalidation_1-rmse:67.23016\n",
      "[98]\tvalidation_0-rmse:28.63703\tvalidation_1-rmse:67.22837\n",
      "[99]\tvalidation_0-rmse:28.63186\tvalidation_1-rmse:67.22937\n"
     ]
    },
    {
     "data": {
      "text/plain": [
       "XGBRegressor(base_score=0.5, booster=None, colsample_bylevel=1,\n",
       "             colsample_bynode=1, colsample_bytree=1, gamma=0, gpu_id=-1,\n",
       "             importance_type='gain', interaction_constraints=None,\n",
       "             learning_rate=0.300000012, max_delta_step=0, max_depth=5,\n",
       "             min_child_weight=1, missing=nan, monotone_constraints=None,\n",
       "             n_estimators=100, n_jobs=0, num_parallel_tree=1,\n",
       "             objective='reg:squarederror', random_state=0, reg_alpha=0,\n",
       "             reg_lambda=1, scale_pos_weight=1, subsample=1, tree_method=None,\n",
       "             validate_parameters=False, verbosity=None)"
      ]
     },
     "execution_count": 6,
     "metadata": {},
     "output_type": "execute_result"
    }
   ],
   "source": [
    "xgbr = xgb.XGBRegressor(max_depth=5, \n",
    "                        n_estimators=100)\n",
    "xgbr.fit(x_train, y_train, eval_set=[(x_train,y_train),(x_val,y_val)])\n",
    "\n",
    "#validation-0 is error on training data\n",
    "#validation-1 is error on val data"
   ]
  },
  {
   "cell_type": "markdown",
   "metadata": {},
   "source": [
    "### plot training & validation accuracy"
   ]
  },
  {
   "cell_type": "code",
   "execution_count": 7,
   "metadata": {},
   "outputs": [
    {
     "data": {
      "text/plain": [
       "[]"
      ]
     },
     "execution_count": 7,
     "metadata": {},
     "output_type": "execute_result"
    },
    {
     "data": {
      "image/png": "[encoded data removed]",
      "text/plain": [
       "<Figure size 432x288 with 1 Axes>"
      ]
     },
     "metadata": {
      "needs_background": "light"
     },
     "output_type": "display_data"
    }
   ],
   "source": [
    "#get training values\n",
    "eval_result = xgbr.evals_result()\n",
    "val_results = eval_result['validation_1']\n",
    "train_results = eval_result['validation_0']\n",
    "\n",
    "val_rmse = val_results['rmse']\n",
    "train_rmse = train_results['rmse']\n",
    "rounds= np.arange(0, len(val_rmse)).tolist()\n",
    "\n",
    "plt.scatter(rounds, train_rmse,label='Train RMSE', marker='.')\n",
    "plt.scatter(rounds, val_rmse,label='Validation RMSE', marker='.')\n",
    "plt.grid(True)\n",
    "plt.xlabel('Rounds')\n",
    "plt.ylabel('RMSE')\n",
    "#plt.xlim([100,150])\n",
    "plt.title('Train Vs Val RMSE')\n",
    "plt.legend()\n",
    "plt.plot()"
   ]
  },
  {
   "cell_type": "markdown",
   "metadata": {},
   "source": [
    "### See Important Features"
   ]
  },
  {
   "cell_type": "code",
   "execution_count": 8,
   "metadata": {},
   "outputs": [
    {
     "data": {
      "image/png": "[encoded data removed]",
      "text/plain": [
       "<Figure size 432x288 with 1 Axes>"
      ]
     },
     "metadata": {
      "needs_background": "light"
     },
     "output_type": "display_data"
    }
   ],
   "source": [
    "xgb.plot_importance(xgbr)\n",
    "plt.show()"
   ]
  },
  {
   "cell_type": "markdown",
   "metadata": {},
   "source": [
    "### do predictions on test dataset"
   ]
  },
  {
   "cell_type": "code",
   "execution_count": 9,
   "metadata": {},
   "outputs": [],
   "source": [
    "pred_y = xgbr.predict(x_val)\n",
    "\n",
    "# append predicted values to the validation df\n",
    "df_val['predicted_count']=pred_y"
   ]
  },
  {
   "cell_type": "markdown",
   "metadata": {},
   "source": [
    "### check distribution of predicted count values"
   ]
  },
  {
   "cell_type": "code",
   "execution_count": 10,
   "metadata": {},
   "outputs": [
    {
     "data": {
      "text/plain": [
       "count    2177.000000\n",
       "mean      246.907501\n",
       "std       189.416733\n",
       "min       -71.213249\n",
       "25%        74.547401\n",
       "50%       227.240585\n",
       "75%       362.460724\n",
       "max       839.172058\n",
       "Name: predicted_count, dtype: float64"
      ]
     },
     "execution_count": 10,
     "metadata": {},
     "output_type": "execute_result"
    }
   ],
   "source": [
    "df_val['predicted_count'].describe()"
   ]
  },
  {
   "cell_type": "markdown",
   "metadata": {},
   "source": [
    "### plot actual vs predicted booking counts"
   ]
  },
  {
   "cell_type": "code",
   "execution_count": 11,
   "metadata": {},
   "outputs": [
    {
     "data": {
      "text/plain": [
       "[]"
      ]
     },
     "execution_count": 11,
     "metadata": {},
     "output_type": "execute_result"
    },
    {
     "data": {
      "image/png": "[encoded data removed]",
      "text/plain": [
       "<Figure size 432x288 with 1 Axes>"
      ]
     },
     "metadata": {
      "needs_background": "light"
     },
     "output_type": "display_data"
    }
   ],
   "source": [
    "plt.plot(df_val['predicted_count'],label='Predicted', marker='.')\n",
    "plt.plot(df_val.iloc[:,0],label='Actual', marker='.')\n",
    "plt.grid(True)\n",
    "plt.xlabel('Sample')\n",
    "plt.ylabel('Counts')\n",
    "plt.xlim([100,350])\n",
    "plt.title('Actual Count Vs Predicted Counts')\n",
    "plt.legend()\n",
    "plt.plot()"
   ]
  },
  {
   "cell_type": "markdown",
   "metadata": {},
   "source": [
    "## Predictions on Test Data"
   ]
  },
  {
   "cell_type": "code",
   "execution_count": 12,
   "metadata": {},
   "outputs": [],
   "source": [
    "df_test = pd.read_csv('./data/bike_rental_test.csv', parse_dates=['datetime'])"
   ]
  },
  {
   "cell_type": "code",
   "execution_count": 13,
   "metadata": {},
   "outputs": [],
   "source": [
    "x_test = df_test.iloc[:,1:]\n",
    "pred_test_x = xgbr.predict(x_test)"
   ]
  },
  {
   "cell_type": "code",
   "execution_count": 14,
   "metadata": {},
   "outputs": [],
   "source": [
    "def adjust_count(x):\n",
    "    if x<0:\n",
    "        return 0\n",
    "    else:\n",
    "        return x\n",
    "    \n",
    "df_test['count']=pred_test_x\n",
    "df_test['count']=df_test['count'].map(adjust_count)"
   ]
  },
  {
   "cell_type": "code",
   "execution_count": 15,
   "metadata": {},
   "outputs": [
    {
     "data": {
      "text/html": [
       "<div>\n",
       "<style scoped>\n",
       "    .dataframe tbody tr th:only-of-type {\n",
       "        vertical-align: middle;\n",
       "    }\n",
       "\n",
       "    .dataframe tbody tr th {\n",
       "        vertical-align: top;\n",
       "    }\n",
       "\n",
       "    .dataframe thead th {\n",
       "        text-align: right;\n",
       "    }\n",
       "</style>\n",
       "<table border=\"1\" class=\"dataframe\">\n",
       "  <thead>\n",
       "    <tr style=\"text-align: right;\">\n",
       "      <th></th>\n",
       "      <th>datetime</th>\n",
       "      <th>season</th>\n",
       "      <th>holiday</th>\n",
       "      <th>workingday</th>\n",
       "      <th>weather</th>\n",
       "      <th>temp</th>\n",
       "      <th>atemp</th>\n",
       "      <th>humidity</th>\n",
       "      <th>windspeed</th>\n",
       "      <th>year</th>\n",
       "      <th>month</th>\n",
       "      <th>day</th>\n",
       "      <th>hour</th>\n",
       "      <th>minute</th>\n",
       "      <th>second</th>\n",
       "      <th>count</th>\n",
       "    </tr>\n",
       "  </thead>\n",
       "  <tbody>\n",
       "    <tr>\n",
       "      <th>0</th>\n",
       "      <td>2011-01-20 00:00:00</td>\n",
       "      <td>1</td>\n",
       "      <td>0</td>\n",
       "      <td>1</td>\n",
       "      <td>1</td>\n",
       "      <td>10.66</td>\n",
       "      <td>11.365</td>\n",
       "      <td>56</td>\n",
       "      <td>26.0027</td>\n",
       "      <td>2011</td>\n",
       "      <td>1</td>\n",
       "      <td>20</td>\n",
       "      <td>0</td>\n",
       "      <td>0</td>\n",
       "      <td>0</td>\n",
       "      <td>14.291264</td>\n",
       "    </tr>\n",
       "    <tr>\n",
       "      <th>1</th>\n",
       "      <td>2011-01-20 01:00:00</td>\n",
       "      <td>1</td>\n",
       "      <td>0</td>\n",
       "      <td>1</td>\n",
       "      <td>1</td>\n",
       "      <td>10.66</td>\n",
       "      <td>13.635</td>\n",
       "      <td>56</td>\n",
       "      <td>0.0000</td>\n",
       "      <td>2011</td>\n",
       "      <td>1</td>\n",
       "      <td>20</td>\n",
       "      <td>1</td>\n",
       "      <td>0</td>\n",
       "      <td>0</td>\n",
       "      <td>0.000000</td>\n",
       "    </tr>\n",
       "    <tr>\n",
       "      <th>2</th>\n",
       "      <td>2011-01-20 02:00:00</td>\n",
       "      <td>1</td>\n",
       "      <td>0</td>\n",
       "      <td>1</td>\n",
       "      <td>1</td>\n",
       "      <td>10.66</td>\n",
       "      <td>13.635</td>\n",
       "      <td>56</td>\n",
       "      <td>0.0000</td>\n",
       "      <td>2011</td>\n",
       "      <td>1</td>\n",
       "      <td>20</td>\n",
       "      <td>2</td>\n",
       "      <td>0</td>\n",
       "      <td>0</td>\n",
       "      <td>0.000000</td>\n",
       "    </tr>\n",
       "    <tr>\n",
       "      <th>3</th>\n",
       "      <td>2011-01-20 03:00:00</td>\n",
       "      <td>1</td>\n",
       "      <td>0</td>\n",
       "      <td>1</td>\n",
       "      <td>1</td>\n",
       "      <td>10.66</td>\n",
       "      <td>12.880</td>\n",
       "      <td>56</td>\n",
       "      <td>11.0014</td>\n",
       "      <td>2011</td>\n",
       "      <td>1</td>\n",
       "      <td>20</td>\n",
       "      <td>3</td>\n",
       "      <td>0</td>\n",
       "      <td>0</td>\n",
       "      <td>0.000000</td>\n",
       "    </tr>\n",
       "    <tr>\n",
       "      <th>4</th>\n",
       "      <td>2011-01-20 04:00:00</td>\n",
       "      <td>1</td>\n",
       "      <td>0</td>\n",
       "      <td>1</td>\n",
       "      <td>1</td>\n",
       "      <td>10.66</td>\n",
       "      <td>12.880</td>\n",
       "      <td>56</td>\n",
       "      <td>11.0014</td>\n",
       "      <td>2011</td>\n",
       "      <td>1</td>\n",
       "      <td>20</td>\n",
       "      <td>4</td>\n",
       "      <td>0</td>\n",
       "      <td>0</td>\n",
       "      <td>0.000000</td>\n",
       "    </tr>\n",
       "  </tbody>\n",
       "</table>\n",
       "</div>"
      ],
      "text/plain": [
       "             datetime  season  holiday  workingday  weather   temp   atemp  \\\n",
       "0 2011-01-20 00:00:00       1        0           1        1  10.66  11.365   \n",
       "1 2011-01-20 01:00:00       1        0           1        1  10.66  13.635   \n",
       "2 2011-01-20 02:00:00       1        0           1        1  10.66  13.635   \n",
       "3 2011-01-20 03:00:00       1        0           1        1  10.66  12.880   \n",
       "4 2011-01-20 04:00:00       1        0           1        1  10.66  12.880   \n",
       "\n",
       "   humidity  windspeed  year  month  day  hour  minute  second      count  \n",
       "0        56    26.0027  2011      1   20     0       0       0  14.291264  \n",
       "1        56     0.0000  2011      1   20     1       0       0   0.000000  \n",
       "2        56     0.0000  2011      1   20     2       0       0   0.000000  \n",
       "3        56    11.0014  2011      1   20     3       0       0   0.000000  \n",
       "4        56    11.0014  2011      1   20     4       0       0   0.000000  "
      ]
     },
     "execution_count": 15,
     "metadata": {},
     "output_type": "execute_result"
    }
   ],
   "source": [
    "df_test.head()"
   ]
  },
  {
   "cell_type": "markdown",
   "metadata": {},
   "source": [
    "# Submit the predicted count to Kaggle !"
   ]
  },
  {
   "cell_type": "code",
   "execution_count": 16,
   "metadata": {},
   "outputs": [],
   "source": [
    "df_test[['datetime','count']].to_csv('predicted_count.csv', index=False)"
   ]
  },
  {
   "cell_type": "code",
   "execution_count": null,
   "metadata": {},
   "outputs": [],
   "source": []
  }
 ],
 "metadata": {
  "kernelspec": {
   "display_name": "Python 3",
   "language": "python",
   "name": "python3"
  },
  "language_info": {
   "codemirror_mode": {
    "name": "ipython",
    "version": 3
   },
   "file_extension": ".py",
   "mimetype": "text/x-python",
   "name": "python",
   "nbconvert_exporter": "python",
   "pygments_lexer": "ipython3",
   "version": "3.7.6"
  }
 },
 "nbformat": 4,
 "nbformat_minor": 4
}
