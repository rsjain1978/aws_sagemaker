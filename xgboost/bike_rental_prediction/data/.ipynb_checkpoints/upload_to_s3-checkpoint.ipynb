{
 "cells": [
  {
   "cell_type": "code",
   "execution_count": 1,
   "metadata": {},
   "outputs": [],
   "source": [
    "import sagemaker"
   ]
  },
  {
   "cell_type": "code",
   "execution_count": 2,
   "metadata": {},
   "outputs": [],
   "source": [
    "sagemaker_session = sagemaker.Session()\n",
    "role = sagemaker.get_execution_role()\n",
    "bucket = 'rsjainaimlmodels'\n",
    "modelname ='bikerental'\n",
    "train_data = 'bike_rental_train.csv'\n",
    "test_data = 'bike_rental_test.csv'\n",
    "val_data = 'bike_rental_val.csv'"
   ]
  },
  {
   "cell_type": "code",
   "execution_count": 3,
   "metadata": {},
   "outputs": [
    {
     "name": "stdout",
     "output_type": "stream",
     "text": [
      "bikerental/train\n",
      "bikerental/val\n",
      "bikerental/test\n"
     ]
    }
   ],
   "source": [
    "train_prefix = '{}/{}'.format(modelname,'train')\n",
    "val_prefix = '{}/{}'.format(modelname,'val')\n",
    "test_prefix = '{}/{}'.format(modelname,'test')\n",
    "\n",
    "print (train_prefix)\n",
    "print (val_prefix)\n",
    "print (test_prefix)"
   ]
  },
  {
   "cell_type": "code",
   "execution_count": 4,
   "metadata": {},
   "outputs": [
    {
     "name": "stdout",
     "output_type": "stream",
     "text": [
      "uploading data to s3\n",
      "uploaded data to s3\n"
     ]
    }
   ],
   "source": [
    "print ('uploading data to s3')\n",
    "sagemaker_session.upload_data(train_data, bucket, train_prefix)\n",
    "sagemaker_session.upload_data(test_data, bucket, test_prefix)\n",
    "sagemaker_session.upload_data(val_data, bucket, val_prefix)\n",
    "print ('uploaded data to s3')"
   ]
  },
  {
   "cell_type": "code",
   "execution_count": null,
   "metadata": {},
   "outputs": [],
   "source": []
  }
 ],
 "metadata": {
  "kernelspec": {
   "display_name": "conda_tensorflow_p36",
   "language": "python",
   "name": "conda_tensorflow_p36"
  },
  "language_info": {
   "codemirror_mode": {
    "name": "ipython",
    "version": 3
   },
   "file_extension": ".py",
   "mimetype": "text/x-python",
   "name": "python",
   "nbconvert_exporter": "python",
   "pygments_lexer": "ipython3",
   "version": "3.6.6"
  }
 },
 "nbformat": 4,
 "nbformat_minor": 4
}
