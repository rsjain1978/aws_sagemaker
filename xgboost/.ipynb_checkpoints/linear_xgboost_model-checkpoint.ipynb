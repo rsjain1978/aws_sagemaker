{
 "cells": [
  {
   "cell_type": "code",
   "execution_count": 1,
   "metadata": {},
   "outputs": [
    {
     "name": "stdout",
     "output_type": "stream",
     "text": [
      "Collecting xgboost\n",
      "  Downloading xgboost-1.0.2-py3-none-win_amd64.whl (24.6 MB)\n",
      "Requirement already satisfied: scipy in c:\\machinelearning\\anaconda3\\envs\\tf2-gpu\\lib\\site-packages (from xgboost) (1.4.1)\n",
      "Requirement already satisfied: numpy in c:\\machinelearning\\anaconda3\\envs\\tf2-gpu\\lib\\site-packages (from xgboost) (1.18.1)\n",
      "Installing collected packages: xgboost\n",
      "Successfully installed xgboost-1.0.2\n"
     ]
    }
   ],
   "source": [
    "!pip install xgboost"
   ]
  },
  {
   "cell_type": "code",
   "execution_count": 3,
   "metadata": {},
   "outputs": [],
   "source": [
    "import xgboost as xgb\n",
    "\n",
    "import pandas as pd\n",
    "import numpy as np\n",
    "from numpy.random import rand, randint, randn\n",
    "import matplotlib.pyplot as plt\n",
    "%matplotlib inline"
   ]
  },
  {
   "cell_type": "code",
   "execution_count": 5,
   "metadata": {},
   "outputs": [],
   "source": [
    "# persist individual files\n",
    "df_train = pd.read_csv('linear_data_train.csv', header=None)\n",
    "df_val = pd.read_csv('linear_data_val.csv', header=None)\n",
    "df_test = pd.read_csv('linear_data_test.csv', header=None)"
   ]
  },
  {
   "cell_type": "code",
   "execution_count": 42,
   "metadata": {},
   "outputs": [],
   "source": [
    "x_train = df_train.iloc[:,2].to_numpy().reshape(-1,1)\n",
    "y_train = df_train.iloc[:,1].to_numpy().reshape(-1,1)\n",
    "\n",
    "x_val = df_val.iloc[:,2].to_numpy().reshape(-1,1)\n",
    "y_val = df_val.iloc[:,1].to_numpy().reshape(-1,1)\n",
    "\n",
    "x_test = df_test.iloc[:,2].to_numpy().reshape(-1,1)\n",
    "y_test = df_test.iloc[:,1].to_numpy().reshape(-1,1)"
   ]
  },
  {
   "cell_type": "code",
   "execution_count": 44,
   "metadata": {},
   "outputs": [
    {
     "name": "stdout",
     "output_type": "stream",
     "text": [
      "[0]\tvalidation_0-rmse:7.80943\tvalidation_1-rmse:14.88312\n"
     ]
    },
    {
     "data": {
      "text/plain": [
       "XGBRFRegressor(base_score=0.5, booster=None, colsample_bylevel=1,\n",
       "               colsample_bynode=0.8, colsample_bytree=1, gamma=0, gpu_id=-1,\n",
       "               importance_type='gain', interaction_constraints=None,\n",
       "               learning_rate=1, max_delta_step=0, max_depth=6,\n",
       "               min_child_weight=1, missing=nan, monotone_constraints=None,\n",
       "               n_estimators=100, n_jobs=0, num_parallel_tree=100,\n",
       "               objective='reg:squarederror', random_state=0, reg_alpha=0,\n",
       "               reg_lambda=1e-05, scale_pos_weight=1, subsample=0.8,\n",
       "               tree_method=None, validate_parameters=False, verbosity=None)"
      ]
     },
     "execution_count": 44,
     "metadata": {},
     "output_type": "execute_result"
    }
   ],
   "source": [
    "xgbr = xgb.XGBRFRegressor()\n",
    "xgbr.fit(x_train, y_train, eval_set=[(x_train,y_train),(x_val,y_val)])\n",
    "\n",
    "#validation-0 is error on training data\n",
    "#validation-1 is error on val data"
   ]
  },
  {
   "cell_type": "code",
   "execution_count": 45,
   "metadata": {},
   "outputs": [
    {
     "data": {
      "text/plain": [
       "{'validation_0': {'rmse': [7.809434]}, 'validation_1': {'rmse': [14.883115]}}"
      ]
     },
     "execution_count": 45,
     "metadata": {},
     "output_type": "execute_result"
    }
   ],
   "source": [
    "#get training values\n",
    "eval_result = xgbr.evals_result()\n",
    "eval_result"
   ]
  },
  {
   "cell_type": "code",
   "execution_count": 48,
   "metadata": {},
   "outputs": [
    {
     "data": {
      "text/plain": [
       "array([1.], dtype=float32)"
      ]
     },
     "execution_count": 48,
     "metadata": {},
     "output_type": "execute_result"
    }
   ],
   "source": [
    "# get important features\n",
    "xgbr.feature_importances_"
   ]
  },
  {
   "cell_type": "code",
   "execution_count": 49,
   "metadata": {},
   "outputs": [],
   "source": [
    "# do predictions on test dataset\n",
    "pred_y = xgbr.predict(x_test)"
   ]
  },
  {
   "cell_type": "code",
   "execution_count": 50,
   "metadata": {},
   "outputs": [
    {
     "data": {
      "text/plain": [
       "[]"
      ]
     },
     "execution_count": 50,
     "metadata": {},
     "output_type": "execute_result"
    },
    {
     "data": {
      "image/png": "[encoded data removed]",
      "text/plain": [
       "<Figure size 432x288 with 1 Axes>"
      ]
     },
     "metadata": {
      "needs_background": "light"
     },
     "output_type": "display_data"
    }
   ],
   "source": [
    "plt.scatter(x_test, pred_y,label='Predicted', marker='.')\n",
    "plt.scatter(x_test, y_test,label='Actual', marker='.')\n",
    "plt.grid(True)\n",
    "plt.xlabel('X value')\n",
    "plt.ylabel('y value')\n",
    "plt.title('X vs y')\n",
    "plt.legend()\n",
    "plt.plot()"
   ]
  },
  {
   "cell_type": "code",
   "execution_count": null,
   "metadata": {},
   "outputs": [],
   "source": []
  }
 ],
 "metadata": {
  "kernelspec": {
   "display_name": "Python 3",
   "language": "python",
   "name": "python3"
  },
  "language_info": {
   "codemirror_mode": {
    "name": "ipython",
    "version": 3
   },
   "file_extension": ".py",
   "mimetype": "text/x-python",
   "name": "python",
   "nbconvert_exporter": "python",
   "pygments_lexer": "ipython3",
   "version": "3.7.6"
  }
 },
 "nbformat": 4,
 "nbformat_minor": 4
}
