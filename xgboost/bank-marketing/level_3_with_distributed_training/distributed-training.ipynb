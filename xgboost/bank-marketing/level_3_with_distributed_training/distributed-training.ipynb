{
 "cells": [
  {
   "cell_type": "markdown",
   "metadata": {},
   "source": [
    "### Scenario Description\n",
    "\n",
    "    In this notebook we are doing the following\n",
    "    - Using training & test data present in csv format\n",
    "    - doing binary classification\n",
    "    - Using a pre-built amazon container for xgboost\n",
    "    - hyperparamters tuning\n",
    "    - distributed training\n",
    "    - specifying debugging configurations"
   ]
  },
  {
   "cell_type": "code",
   "execution_count": 1,
   "metadata": {},
   "outputs": [
    {
     "name": "stdout",
     "output_type": "stream",
     "text": [
      "Role- arn:aws:iam::951135073253:role/service-role/AmazonSageMaker-ExecutionRole-20200722T234773\n",
      "Region- eu-west-1\n"
     ]
    }
   ],
   "source": [
    "import sagemaker\n",
    "import boto3\n",
    "from sagemaker.session import s3_input\n",
    "\n",
    "session = sagemaker.Session()\n",
    "sm = boto3.Session().client('sagemaker')\n",
    "role = sagemaker.get_execution_role()\n",
    "region = boto3.Session().region_name\n",
    "\n",
    "print ('Role-',role)\n",
    "print ('Region-',region)"
   ]
  },
  {
   "cell_type": "code",
   "execution_count": 2,
   "metadata": {},
   "outputs": [
    {
     "name": "stdout",
     "output_type": "stream",
     "text": [
      "Experiment metadata would be published at - s3://snowflake-getting-started/bank-marketing/experiments-xboost-distributedtraining\n",
      "Experiment debugging data available at - s3://snowflake-getting-started/bank-marketing/experiments-xboost-distributedtraining/debugging\n",
      "Experiment trained models available at - s3://snowflake-getting-started/bank-marketing/experiments-xboost-distributedtraining/trained_models\n",
      "Experiment checkpoints available at - s3://snowflake-getting-started/bank-marketing/experiments-xboost-distributedtraining/checkpoint\n",
      "Experiment code available at - s3://snowflake-getting-started/bank-marketing/experiments-xboost-distributedtraining/code\n",
      "Experiment estimator available at - bank-marketing/experiments-xboost-distributedtraining/estimator\n"
     ]
    }
   ],
   "source": [
    "import time\n",
    "\n",
    "BUCKET_NAME = 'snowflake-getting-started'\n",
    "BASE_PREFIX = 'bank-marketing'\n",
    "\n",
    "EXPERIMENTS_OUTPUT_LOC = 's3://'+BUCKET_NAME+'/'+BASE_PREFIX+'/experiments-xboost-distributedtraining'\n",
    "print ('Experiment metadata would be published at -',EXPERIMENTS_OUTPUT_LOC)\n",
    "\n",
    "EXP_CHECKPOINT=EXPERIMENTS_OUTPUT_LOC+'/checkpoint'\n",
    "EXP_DEBUGGING_OUTPUTS=EXPERIMENTS_OUTPUT_LOC+'/debugging'\n",
    "EXP_TRAINED_MODELS=EXPERIMENTS_OUTPUT_LOC+'/trained_models'\n",
    "EXP_SOURCE_CODE= EXPERIMENTS_OUTPUT_LOC+'/code'\n",
    "EXP_ESTIMATOR= BASE_PREFIX+'/experiments-xboost-distributedtraining/estimator'\n",
    "\n",
    "print ('Experiment debugging data available at -',EXP_DEBUGGING_OUTPUTS)\n",
    "print ('Experiment trained models available at -',EXP_TRAINED_MODELS)\n",
    "print ('Experiment checkpoints available at -',EXP_CHECKPOINT)\n",
    "print ('Experiment code available at -',EXP_SOURCE_CODE)\n",
    "print ('Experiment estimator available at -',EXP_ESTIMATOR)"
   ]
  },
  {
   "cell_type": "code",
   "execution_count": 3,
   "metadata": {},
   "outputs": [],
   "source": [
    "from sagemaker.estimator import Estimator\n",
    "from sagemaker.debugger import rule_configs, Rule, DebuggerHookConfig, CollectionConfig\n",
    "from sagemaker.amazon.amazon_estimator import get_image_uri\n",
    "\n",
    "# we use the Hyperparameter Tuner\n",
    "from sagemaker.tuner import IntegerParameter\n",
    "from sagemaker.tuner import ContinuousParameter\n",
    "from sagemaker.tuner import HyperparameterTuner\n",
    "\n",
    "def train_xgboost(instances, mode):\n",
    "    # define the data type and paths to the training and validation datasets\n",
    "    content_type = \"text/csv\"\n",
    "    train_input = s3_input(\"s3://{}/{}/{}\".format(BUCKET_NAME, BASE_PREFIX, 'train/train_data.csv'), content_type=content_type,distribution=mode)\n",
    "    validation_input = s3_input(\"s3://{}/{}/{}\".format(BUCKET_NAME, BASE_PREFIX, 'test/test_data.csv'), content_type=content_type)\n",
    "\n",
    "    save_interval ='1'\n",
    "    container = get_image_uri(region, 'xgboost',repo_version='1.0-1')\n",
    "\n",
    "    algorithm_mode_default_estimator = Estimator(container,\n",
    "                                                  train_instance_type='ml.m4.xlarge',\n",
    "                                                  train_instance_count=instances,\n",
    "                                                  sagemaker_session = session,\n",
    "                                                  role = role,\n",
    "                                                  input_mode='File',\n",
    "                                                  enable_network_isolation = True, #disallow internet connection,\n",
    "                                                  checkpoint_s3_uri = EXP_CHECKPOINT,\n",
    "                                                  enable_sagemaker_metrics=True,\n",
    "                                                  debugger_hook_config=DebuggerHookConfig(\n",
    "                                                              s3_output_path=EXP_DEBUGGING_OUTPUTS, \n",
    "                                                              hook_parameters={\n",
    "                                                                'save_interval': '1'\n",
    "                                                              },\n",
    "                                                              # Required - See https://github.com/awslabs/sagemaker-debugger/blob/master/docs/api.md#built-in-collections for supported collections\n",
    "                                                              collection_configs=[ \n",
    "                                                                  CollectionConfig( name=\"metrics\"), \n",
    "                                                                  CollectionConfig( name=\"feature_importance\"), \n",
    "                                                                  CollectionConfig( name=\"full_shap\"), \n",
    "                                                                  CollectionConfig( name=\"average_shap\"), \n",
    "                                                              ],\n",
    "                                                            ),\n",
    "                                                  rules=[ \n",
    "                                                      Rule.sagemaker( \n",
    "                                                          rule_configs.loss_not_decreasing(), \n",
    "                                                          rule_parameters={ \"collection_names\": \"metrics\", \"num_steps\": str(save_interval * 2), }, \n",
    "                                                      ), \n",
    "                                                  ],\n",
    "                                                  output_path = EXP_TRAINED_MODELS\n",
    "                                            )\n",
    "\n",
    "    # Define exploration boundaries (default suggested values from Amazon SageMaker Documentation)\n",
    "    hyperparameter_ranges = {\n",
    "        'alpha': ContinuousParameter(0, 1000, scaling_type=\"Auto\"),\n",
    "        'eta': ContinuousParameter(0.1, 0.5, scaling_type='Logarithmic'),\n",
    "        'max_depth': IntegerParameter(5,10,scaling_type='Auto'),\n",
    "        'min_child_weight': ContinuousParameter(0,10,scaling_type='Auto'),\n",
    "        'num_round': IntegerParameter(1,4000,scaling_type='Auto'),\n",
    "        'subsample': ContinuousParameter(0.5,1,scaling_type='Logarithmic')}\n",
    "\n",
    "    objective_metric_name = 'validation:auc'\n",
    "\n",
    "    algorithm_mode_hyper_tuning_estimator = HyperparameterTuner(\n",
    "                                                                algorithm_mode_default_estimator,\n",
    "                                                                objective_metric_name,\n",
    "                                                                hyperparameter_ranges,\n",
    "                                                                max_jobs=3,\n",
    "                                                                max_parallel_jobs=3,\n",
    "                                                                strategy='Bayesian'\n",
    "                                                            )\n",
    "\n",
    "    algorithm_mode_hyper_tuning_estimator.fit(\n",
    "                                                inputs={'train': train_input, 'validation': validation_input},    \n",
    "                                                logs=True,\n",
    "                                                # This is a fire and forget event. By setting wait=False, you just submit the job to run in the background.\n",
    "                                                # Amazon SageMaker starts one training job and release control to next cells in the notebook.\n",
    "                                                # Follow this notebook to see status of the training job.\n",
    "                                                wait=False\n",
    "                                            )\n",
    "    return algorithm_mode_hyper_tuning_estimator"
   ]
  },
  {
   "cell_type": "markdown",
   "metadata": {},
   "source": [
    "### Compare the model training runs for an experiment\n",
    "\n",
    "Now we will use the analytics capabilities of Python SDK to query and compare the training runs for identifying the best model produced by our experiment. You can retrieve trial components by using a search expression."
   ]
  },
  {
   "cell_type": "code",
   "execution_count": 4,
   "metadata": {},
   "outputs": [],
   "source": [
    "import time\n",
    "\n",
    "def monitor_training_job(estimator, instances, mode,results_df):\n",
    "\n",
    "    # Retrieve analytics object\n",
    "    algorithm_mode_hyper_tuning_estimator_analytics = estimator.analytics()\n",
    "\n",
    "    t0 = time.time()\n",
    "    while (1):        \n",
    "        status = estimator.describe()['HyperParameterTuningJobStatus']\n",
    "        if (status=='Completed' or status=='Failed'):\n",
    "            print ('Hyper parameter tuning job completed - displaying results')\n",
    "            t1 = time.time()\n",
    "            break\n",
    "        else:\n",
    "            print ('Training in progress')\n",
    "        time.sleep(60)\n",
    "        \n",
    "    timetaken = t1-t0\n",
    "\n",
    "    results_df=results_df.append({'Instances':instances,\n",
    "                                  'Time':timetaken/60,\n",
    "                                  'Mode':mode\n",
    "                                 },\n",
    "                                 ignore_index=True)       \n",
    "\n",
    "    # Look at summary of associated training jobs\n",
    "    tuner_dataframe = algorithm_mode_hyper_tuning_estimator_analytics.dataframe()\n",
    "\n",
    "    tuner_dataframe\n",
    "    \n",
    "    return results_df"
   ]
  },
  {
   "cell_type": "code",
   "execution_count": 5,
   "metadata": {},
   "outputs": [],
   "source": [
    "import pandas as pd\n",
    "\n",
    "results_df = pd.DataFrame(columns=['Instances','Time','Mode'])"
   ]
  },
  {
   "cell_type": "code",
   "execution_count": 6,
   "metadata": {},
   "outputs": [
    {
     "name": "stderr",
     "output_type": "stream",
     "text": [
      "'s3_input' class will be renamed to 'TrainingInput' in SageMaker Python SDK v2.\n",
      "'s3_input' class will be renamed to 'TrainingInput' in SageMaker Python SDK v2.\n",
      "'get_image_uri' method will be deprecated in favor of 'ImageURIProvider' class in SageMaker Python SDK v2.\n",
      "WARNING:root:Parameter image_name will be renamed to image_uri in SageMaker Python SDK v2.\n"
     ]
    },
    {
     "name": "stdout",
     "output_type": "stream",
     "text": [
      "Training in progress\n",
      "Training in progress\n",
      "Training in progress\n",
      "Training in progress\n",
      "Training in progress\n",
      "Training in progress\n",
      "Hyper parameter tuning job completed - displaying results\n",
      "  Instances      Time             Mode\n",
      "0         2  6.011087  FullyReplicated\n"
     ]
    }
   ],
   "source": [
    "estimator = train_xgboost(3, 'FullyReplicated')\n",
    "results_df = monitor_training_job(estimator, 2, 'FullyReplicated',results_df)\n",
    "print (results_df)"
   ]
  },
  {
   "cell_type": "code",
   "execution_count": 7,
   "metadata": {},
   "outputs": [
    {
     "name": "stderr",
     "output_type": "stream",
     "text": [
      "WARNING:sagemaker:'s3_input' class will be renamed to 'TrainingInput' in SageMaker Python SDK v2.\n",
      "WARNING:sagemaker:'s3_input' class will be renamed to 'TrainingInput' in SageMaker Python SDK v2.\n",
      "WARNING:sagemaker.amazon.amazon_estimator:'get_image_uri' method will be deprecated in favor of 'ImageURIProvider' class in SageMaker Python SDK v2.\n",
      "WARNING:root:Parameter image_name will be renamed to image_uri in SageMaker Python SDK v2.\n"
     ]
    },
    {
     "name": "stdout",
     "output_type": "stream",
     "text": [
      "Training in progress\n",
      "Training in progress\n",
      "Training in progress\n",
      "Training in progress\n",
      "Training in progress\n",
      "Training in progress\n",
      "Training in progress\n",
      "Hyper parameter tuning job completed - displaying results\n",
      "  Instances      Time             Mode\n",
      "0         2  6.011087  FullyReplicated\n",
      "1         3  7.012280  FullyReplicated\n"
     ]
    }
   ],
   "source": [
    "estimator = train_xgboost(3, 'FullyReplicated')\n",
    "results_df = monitor_training_job(estimator, 3, 'FullyReplicated',results_df)\n",
    "print (results_df)"
   ]
  },
  {
   "cell_type": "code",
   "execution_count": 8,
   "metadata": {},
   "outputs": [
    {
     "name": "stderr",
     "output_type": "stream",
     "text": [
      "WARNING:sagemaker:'s3_input' class will be renamed to 'TrainingInput' in SageMaker Python SDK v2.\n",
      "WARNING:sagemaker:'s3_input' class will be renamed to 'TrainingInput' in SageMaker Python SDK v2.\n",
      "WARNING:sagemaker.amazon.amazon_estimator:'get_image_uri' method will be deprecated in favor of 'ImageURIProvider' class in SageMaker Python SDK v2.\n",
      "WARNING:root:Parameter image_name will be renamed to image_uri in SageMaker Python SDK v2.\n"
     ]
    },
    {
     "name": "stdout",
     "output_type": "stream",
     "text": [
      "Training in progress\n",
      "Training in progress\n",
      "Training in progress\n",
      "Training in progress\n",
      "Training in progress\n",
      "Training in progress\n"
     ]
    },
    {
     "ename": "KeyboardInterrupt",
     "evalue": "",
     "output_type": "error",
     "traceback": [
      "\u001b[0;31m---------------------------------------------------------------------------\u001b[0m",
      "\u001b[0;31mKeyboardInterrupt\u001b[0m                         Traceback (most recent call last)",
      "\u001b[0;32m<ipython-input-8-503f46dfe37d>\u001b[0m in \u001b[0;36m<module>\u001b[0;34m\u001b[0m\n\u001b[1;32m      1\u001b[0m \u001b[0mestimator\u001b[0m \u001b[0;34m=\u001b[0m \u001b[0mtrain_xgboost\u001b[0m\u001b[0;34m(\u001b[0m\u001b[0;36m3\u001b[0m\u001b[0;34m,\u001b[0m \u001b[0;34m'ShardedByS3Key'\u001b[0m\u001b[0;34m)\u001b[0m\u001b[0;34m\u001b[0m\u001b[0;34m\u001b[0m\u001b[0m\n\u001b[0;32m----> 2\u001b[0;31m \u001b[0mresults_df\u001b[0m \u001b[0;34m=\u001b[0m \u001b[0mmonitor_training_job\u001b[0m\u001b[0;34m(\u001b[0m\u001b[0mestimator\u001b[0m\u001b[0;34m,\u001b[0m\u001b[0;36m2\u001b[0m\u001b[0;34m,\u001b[0m\u001b[0;34m'ShardedByS3Key'\u001b[0m\u001b[0;34m,\u001b[0m\u001b[0mresults_df\u001b[0m\u001b[0;34m)\u001b[0m\u001b[0;34m\u001b[0m\u001b[0;34m\u001b[0m\u001b[0m\n\u001b[0m\u001b[1;32m      3\u001b[0m \u001b[0mprint\u001b[0m \u001b[0;34m(\u001b[0m\u001b[0mresults_df\u001b[0m\u001b[0;34m)\u001b[0m\u001b[0;34m\u001b[0m\u001b[0;34m\u001b[0m\u001b[0m\n",
      "\u001b[0;32m<ipython-input-4-be77d166c077>\u001b[0m in \u001b[0;36mmonitor_training_job\u001b[0;34m(estimator, instances, mode, results_df)\u001b[0m\n\u001b[1;32m     15\u001b[0m         \u001b[0;32melse\u001b[0m\u001b[0;34m:\u001b[0m\u001b[0;34m\u001b[0m\u001b[0;34m\u001b[0m\u001b[0m\n\u001b[1;32m     16\u001b[0m             \u001b[0mprint\u001b[0m \u001b[0;34m(\u001b[0m\u001b[0;34m'Training in progress'\u001b[0m\u001b[0;34m)\u001b[0m\u001b[0;34m\u001b[0m\u001b[0;34m\u001b[0m\u001b[0m\n\u001b[0;32m---> 17\u001b[0;31m         \u001b[0mtime\u001b[0m\u001b[0;34m.\u001b[0m\u001b[0msleep\u001b[0m\u001b[0;34m(\u001b[0m\u001b[0;36m60\u001b[0m\u001b[0;34m)\u001b[0m\u001b[0;34m\u001b[0m\u001b[0;34m\u001b[0m\u001b[0m\n\u001b[0m\u001b[1;32m     18\u001b[0m \u001b[0;34m\u001b[0m\u001b[0m\n\u001b[1;32m     19\u001b[0m     \u001b[0mtimetaken\u001b[0m \u001b[0;34m=\u001b[0m \u001b[0mt1\u001b[0m\u001b[0;34m-\u001b[0m\u001b[0mt0\u001b[0m\u001b[0;34m\u001b[0m\u001b[0;34m\u001b[0m\u001b[0m\n",
      "\u001b[0;31mKeyboardInterrupt\u001b[0m: "
     ]
    }
   ],
   "source": [
    "estimator = train_xgboost(3, 'ShardedByS3Key')\n",
    "results_df = monitor_training_job(estimator,2,'ShardedByS3Key',results_df)\n",
    "print (results_df)"
   ]
  },
  {
   "cell_type": "code",
   "execution_count": null,
   "metadata": {},
   "outputs": [],
   "source": [
    "estimator = train_xgboost(3, 'ShardedByS3Key')\n",
    "results_df = monitor_training_job(estimator,3,'ShardedByS3Key',results_df)\n",
    "print (results_df)"
   ]
  },
  {
   "cell_type": "code",
   "execution_count": null,
   "metadata": {},
   "outputs": [],
   "source": [
    "estimator = train_xgboost(1, 'FullyReplicated')\n",
    "results_df = monitor_training_job(estimator, 1, 'FullyReplicated',results_df)\n",
    "print (results_df)"
   ]
  },
  {
   "cell_type": "code",
   "execution_count": null,
   "metadata": {},
   "outputs": [],
   "source": []
  }
 ],
 "metadata": {
  "instance_type": "ml.t3.medium",
  "kernelspec": {
   "display_name": "Python 3 (Data Science)",
   "language": "python",
   "name": "python3__SAGEMAKER_INTERNAL__arn:aws:sagemaker:eu-west-1:470317259841:image/datascience-1.0"
  },
  "language_info": {
   "codemirror_mode": {
    "name": "ipython",
    "version": 3
   },
   "file_extension": ".py",
   "mimetype": "text/x-python",
   "name": "python",
   "nbconvert_exporter": "python",
   "pygments_lexer": "ipython3",
   "version": "3.7.6"
  }
 },
 "nbformat": 4,
 "nbformat_minor": 4
}
