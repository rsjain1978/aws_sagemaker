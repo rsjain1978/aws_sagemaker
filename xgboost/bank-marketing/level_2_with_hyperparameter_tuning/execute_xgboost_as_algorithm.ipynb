{
 "cells": [
  {
   "cell_type": "markdown",
   "metadata": {},
   "source": [
    "### Scenario Description\n",
    "\n",
    "    In this notebook we are doing the following\n",
    "    - Using training & test data present in csv format\n",
    "    - doing binary classification\n",
    "    - Using a pre-built amazon container for xgboost\n",
    "    - basic hyperparamters (no tuning!)\n",
    "    - specifying debugging configurations"
   ]
  },
  {
   "cell_type": "code",
   "execution_count": 1,
   "metadata": {},
   "outputs": [
    {
     "name": "stdout",
     "output_type": "stream",
     "text": [
      "Role- arn:aws:iam::951135073253:role/service-role/AmazonSageMaker-ExecutionRole-20200722T234773\n",
      "Region- eu-west-1\n"
     ]
    }
   ],
   "source": [
    "import sagemaker\n",
    "import boto3\n",
    "from sagemaker.session import s3_input\n",
    "\n",
    "session = sagemaker.Session()\n",
    "sm = boto3.Session().client('sagemaker')\n",
    "role = sagemaker.get_execution_role()\n",
    "region = boto3.Session().region_name\n",
    "\n",
    "print ('Role-',role)\n",
    "print ('Region-',region)"
   ]
  },
  {
   "cell_type": "code",
   "execution_count": 45,
   "metadata": {},
   "outputs": [
    {
     "name": "stdout",
     "output_type": "stream",
     "text": [
      "Experiment metadata would be published at - s3://snowflake-getting-started/bank-marketing/experiments-xboost-hyperparametertuning\n",
      "Experiment debugging data available at - s3://snowflake-getting-started/bank-marketing/experiments-xboost-hyperparametertuning/debugging\n",
      "Experiment trained models available at - s3://snowflake-getting-started/bank-marketing/experiments-xboost-hyperparametertuning/trained_models\n",
      "Experiment checkpoints available at - s3://snowflake-getting-started/bank-marketing/experiments-xboost-hyperparametertuning/checkpoint\n",
      "Experiment code available at - s3://snowflake-getting-started/bank-marketing/experiments-xboost-hyperparametertuning/code\n"
     ]
    }
   ],
   "source": [
    "import time\n",
    "\n",
    "BUCKET_NAME = 'snowflake-getting-started'\n",
    "BASE_PREFIX = 'bank-marketing'\n",
    "\n",
    "EXPERIMENTS_OUTPUT_LOC = 's3://'+BUCKET_NAME+'/'+BASE_PREFIX+'/experiments-xboost-hyperparametertuning'\n",
    "print ('Experiment metadata would be published at -',EXPERIMENTS_OUTPUT_LOC)\n",
    "\n",
    "EXP_CHECKPOINT=EXPERIMENTS_OUTPUT_LOC+'/checkpoint'\n",
    "EXP_DEBUGGING_OUTPUTS=EXPERIMENTS_OUTPUT_LOC+'/debugging'\n",
    "EXP_TRAINED_MODELS=EXPERIMENTS_OUTPUT_LOC+'/trained_models'\n",
    "EXP_SOURCE_CODE= EXPERIMENTS_OUTPUT_LOC+'/code'\n",
    "\n",
    "print ('Experiment debugging data available at -',EXP_DEBUGGING_OUTPUTS)\n",
    "print ('Experiment trained models available at -',EXP_TRAINED_MODELS)\n",
    "print ('Experiment checkpoints available at -',EXP_CHECKPOINT)\n",
    "print ('Experiment code available at -',EXP_SOURCE_CODE)"
   ]
  },
  {
   "cell_type": "code",
   "execution_count": 4,
   "metadata": {},
   "outputs": [
    {
     "name": "stderr",
     "output_type": "stream",
     "text": [
      "'s3_input' class will be renamed to 'TrainingInput' in SageMaker Python SDK v2.\n",
      "'s3_input' class will be renamed to 'TrainingInput' in SageMaker Python SDK v2.\n"
     ]
    }
   ],
   "source": [
    "# define the data type and paths to the training and validation datasets\n",
    "content_type = \"text/csv\"\n",
    "train_input = s3_input(\"s3://{}/{}/{}\".format(BUCKET_NAME, BASE_PREFIX, 'train/train_data.csv'), content_type=content_type)\n",
    "validation_input = s3_input(\"s3://{}/{}/{}\".format(BUCKET_NAME, BASE_PREFIX, 'test/test_data.csv'), content_type=content_type)"
   ]
  },
  {
   "cell_type": "code",
   "execution_count": 51,
   "metadata": {},
   "outputs": [
    {
     "name": "stderr",
     "output_type": "stream",
     "text": [
      "WARNING:sagemaker.amazon.amazon_estimator:'get_image_uri' method will be deprecated in favor of 'ImageURIProvider' class in SageMaker Python SDK v2.\n",
      "WARNING:root:Parameter image_name will be renamed to image_uri in SageMaker Python SDK v2.\n"
     ]
    },
    {
     "name": "stdout",
     "output_type": "stream",
     "text": [
      "141502667606.dkr.ecr.eu-west-1.amazonaws.com/sagemaker-xgboost:1.0-1-cpu-py3\n"
     ]
    }
   ],
   "source": [
    "from sagemaker.estimator import Estimator\n",
    "from sagemaker.debugger import rule_configs, Rule, DebuggerHookConfig, CollectionConfig\n",
    "from sagemaker.amazon.amazon_estimator import get_image_uri\n",
    "\n",
    "# we use the Hyperparameter Tuner\n",
    "from sagemaker.tuner import IntegerParameter\n",
    "from sagemaker.tuner import ContinuousParameter\n",
    "from sagemaker.tuner import HyperparameterTuner\n",
    "\n",
    "save_interval ='1'\n",
    "container = get_image_uri(region, 'xgboost',repo_version='1.0-1')\n",
    "\n",
    "print (container)\n",
    "algorithm_mode_default_estimator = Estimator(container,\n",
    "                                              train_instance_type='ml.m4.xlarge',\n",
    "                                              train_instance_count=1,\n",
    "                                              sagemaker_session = session,\n",
    "                                              role = role,\n",
    "                                              input_mode='File',\n",
    "                                              enable_network_isolation = True, #disallow internet connection,\n",
    "                                              checkpoint_s3_uri = EXP_CHECKPOINT,\n",
    "                                              enable_sagemaker_metrics=True,\n",
    "                                              debugger_hook_config=DebuggerHookConfig(\n",
    "                                                          s3_output_path=EXP_DEBUGGING_OUTPUTS, \n",
    "                                                          hook_parameters={\n",
    "                                                            'save_interval': '1'\n",
    "                                                          },\n",
    "                                                          # Required - See https://github.com/awslabs/sagemaker-debugger/blob/master/docs/api.md#built-in-collections for supported collections\n",
    "                                                          collection_configs=[ \n",
    "                                                              CollectionConfig( name=\"metrics\"), \n",
    "                                                              CollectionConfig( name=\"feature_importance\"), \n",
    "                                                              CollectionConfig( name=\"full_shap\"), \n",
    "                                                              CollectionConfig( name=\"average_shap\"), \n",
    "                                                          ],\n",
    "                                                        ),\n",
    "                                              rules=[ \n",
    "                                                  Rule.sagemaker( \n",
    "                                                      rule_configs.loss_not_decreasing(), \n",
    "                                                      rule_parameters={ \"collection_names\": \"metrics\", \"num_steps\": str(save_interval * 2), }, \n",
    "                                                  ), \n",
    "                                              ],\n",
    "                                              output_path = EXP_TRAINED_MODELS\n",
    "                                        )\n",
    "\n",
    "# Define exploration boundaries (default suggested values from Amazon SageMaker Documentation)\n",
    "hyperparameter_ranges = {\n",
    "    'alpha': ContinuousParameter(0, 1000, scaling_type=\"Auto\"),\n",
    "    'eta': ContinuousParameter(0.1, 0.5, scaling_type='Logarithmic'),\n",
    "    'max_depth': IntegerParameter(0,10,scaling_type='Auto'),\n",
    "    'min_child_weight': ContinuousParameter(0,10,scaling_type='Auto'),\n",
    "    'num_round': IntegerParameter(1,4000,scaling_type='Auto'),\n",
    "    'subsample': ContinuousParameter(0.5,1,scaling_type='Logarithmic')}\n",
    "\n",
    "objective_metric_name = 'validation:auc'\n",
    "\n",
    "algorithm_mode_hyper_tuning_estimator = HyperparameterTuner(\n",
    "                                                            algorithm_mode_default_estimator,\n",
    "                                                            objective_metric_name,\n",
    "                                                            hyperparameter_ranges,\n",
    "                                                            max_jobs=5,\n",
    "                                                            max_parallel_jobs=2,\n",
    "                                                            strategy='Bayesian'\n",
    "                                                        )\n",
    "\n",
    "algorithm_mode_hyper_tuning_estimator.fit(\n",
    "                                            inputs={'train': train_input, 'validation': validation_input},    \n",
    "                                            logs=True,\n",
    "                                            # This is a fire and forget event. By setting wait=False, you just submit the job to run in the background.\n",
    "                                            # Amazon SageMaker starts one training job and release control to next cells in the notebook.\n",
    "                                            # Follow this notebook to see status of the training job.\n",
    "                                            wait=False\n",
    "                                        )"
   ]
  },
  {
   "cell_type": "markdown",
   "metadata": {},
   "source": [
    "### Compare the model training runs for an experiment\n",
    "\n",
    "Now we will use the analytics capabilities of Python SDK to query and compare the training runs for identifying the best model produced by our experiment. You can retrieve trial components by using a search expression."
   ]
  },
  {
   "cell_type": "code",
   "execution_count": 52,
   "metadata": {},
   "outputs": [
    {
     "data": {
      "text/html": [
       "<div>\n",
       "<style scoped>\n",
       "    .dataframe tbody tr th:only-of-type {\n",
       "        vertical-align: middle;\n",
       "    }\n",
       "\n",
       "    .dataframe tbody tr th {\n",
       "        vertical-align: top;\n",
       "    }\n",
       "\n",
       "    .dataframe thead th {\n",
       "        text-align: right;\n",
       "    }\n",
       "</style>\n",
       "<table border=\"1\" class=\"dataframe\">\n",
       "  <thead>\n",
       "    <tr style=\"text-align: right;\">\n",
       "      <th></th>\n",
       "    </tr>\n",
       "  </thead>\n",
       "  <tbody>\n",
       "  </tbody>\n",
       "</table>\n",
       "</div>"
      ],
      "text/plain": [
       "Empty DataFrame\n",
       "Columns: []\n",
       "Index: []"
      ]
     },
     "execution_count": 52,
     "metadata": {},
     "output_type": "execute_result"
    }
   ],
   "source": [
    "# Retrieve analytics object\n",
    "algorithm_mode_hyper_tuning_estimator_analytics = algorithm_mode_hyper_tuning_estimator.analytics()\n",
    "\n",
    "# Look at summary of associated training jobs\n",
    "tuner_dataframe = algorithm_mode_hyper_tuning_estimator_analytics.dataframe()\n",
    "\n",
    "tuner_dataframe"
   ]
  },
  {
   "cell_type": "code",
   "execution_count": 30,
   "metadata": {},
   "outputs": [
    {
     "data": {
      "text/plain": [
       "'sagemaker-xgboost-200730-2005-007-f01bf205'"
      ]
     },
     "execution_count": 30,
     "metadata": {},
     "output_type": "execute_result"
    }
   ],
   "source": [
    "#get the best training job\n",
    "algorithm_mode_hyper_tuning_estimator.best_training_job()"
   ]
  },
  {
   "cell_type": "code",
   "execution_count": 42,
   "metadata": {},
   "outputs": [
    {
     "name": "stdout",
     "output_type": "stream",
     "text": [
      "download: s3://snowflake-getting-started/bank-marketing/experiments-xboost-hyperparametertuning/trained_models/sagemaker-xgboost-200730-2005-001-8b586175/output/model.tar.gz to ./model.tar.gz\n"
     ]
    }
   ],
   "source": [
    "#download the best model & load it, this can then be used for local predictions\n",
    "!aws s3 cp s3://snowflake-getting-started/bank-marketing/experiments-xboost-hyperparametertuning/trained_models/sagemaker-xgboost-200730-2005-001-8b586175/output/model.tar.gz .\n",
    "\n",
    "# unzip model\n",
    "import tarfile\n",
    "import pickle as pkl\n",
    "\n",
    "tar = tarfile.open('model.tar.gz')\n",
    "tar.extractall()\n",
    "tar.close() \n",
    "\n",
    "model = pkl.load(open(\"xgboost-model\", \"rb\"))"
   ]
  },
  {
   "cell_type": "code",
   "execution_count": 41,
   "metadata": {},
   "outputs": [
    {
     "data": {
      "text/plain": [
       "<xgboost.core.Booster at 0x7f1b4e27a810>"
      ]
     },
     "execution_count": 41,
     "metadata": {},
     "output_type": "execute_result"
    }
   ],
   "source": [
    "model"
   ]
  },
  {
   "cell_type": "code",
   "execution_count": null,
   "metadata": {},
   "outputs": [],
   "source": []
  }
 ],
 "metadata": {
  "instance_type": "ml.t3.medium",
  "kernelspec": {
   "display_name": "Python 3 (Data Science)",
   "language": "python",
   "name": "python3__SAGEMAKER_INTERNAL__arn:aws:sagemaker:eu-west-1:470317259841:image/datascience-1.0"
  },
  "language_info": {
   "codemirror_mode": {
    "name": "ipython",
    "version": 3
   },
   "file_extension": ".py",
   "mimetype": "text/x-python",
   "name": "python",
   "nbconvert_exporter": "python",
   "pygments_lexer": "ipython3",
   "version": "3.7.6"
  }
 },
 "nbformat": 4,
 "nbformat_minor": 4
}
