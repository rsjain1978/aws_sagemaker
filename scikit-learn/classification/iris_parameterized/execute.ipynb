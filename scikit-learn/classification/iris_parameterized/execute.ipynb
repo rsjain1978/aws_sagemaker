{
 "cells": [
  {
   "cell_type": "code",
   "execution_count": 1,
   "metadata": {},
   "outputs": [],
   "source": [
    "import sagemaker"
   ]
  },
  {
   "cell_type": "code",
   "execution_count": 2,
   "metadata": {},
   "outputs": [],
   "source": [
    "session = sagemaker.Session()\n",
    "role = sagemaker.get_execution_role()"
   ]
  },
  {
   "cell_type": "markdown",
   "metadata": {},
   "source": [
    "# Push data to S3 bucket"
   ]
  },
  {
   "cell_type": "code",
   "execution_count": 5,
   "metadata": {},
   "outputs": [
    {
     "name": "stdout",
     "output_type": "stream",
     "text": [
      "------------>uploading data to s3\n",
      "------------>data uploaded to - s3://rsjainaimlmodels/iris/data/iris.csv\n",
      "------------>model would be uploaded to - s3://rsjainaimlmodels\n"
     ]
    }
   ],
   "source": [
    "DATA_FILE = './data/iris.csv'\n",
    "bucket_name = 'rsjainaimlmodels'\n",
    "prefix = 'iris/data'\n",
    "s3_output_path = 's3://'+bucket_name\n",
    "\n",
    "print ('------------>uploading data to s3')\n",
    "s3_data_path = session.upload_data(path=DATA_FILE, \n",
    "                                   bucket=bucket_name, \n",
    "                                   key_prefix=prefix)\n",
    "print ('------------>data uploaded to -', s3_data_path)\n",
    "print ('------------>model would be uploaded to -', s3_output_path)"
   ]
  },
  {
   "cell_type": "markdown",
   "metadata": {},
   "source": [
    "# Create Sklearn Executor"
   ]
  },
  {
   "cell_type": "code",
   "execution_count": 9,
   "metadata": {},
   "outputs": [],
   "source": [
    "from sagemaker.sklearn import SKLearn\n",
    "\n",
    "executor = SKLearn(entry_point='train.py',\n",
    "                  train_instance_type='ml.c4.xlarge',\n",
    "                  sagemaker_session = session,\n",
    "                  role = role,\n",
    "                  hyperparameters = {'max_iter':15,\n",
    "                                    'class_weight':'balanced'},\n",
    "                  output_path = s3_output_path)"
   ]
  },
  {
   "cell_type": "code",
   "execution_count": 10,
   "metadata": {},
   "outputs": [
    {
     "name": "stdout",
     "output_type": "stream",
     "text": [
      "2020-05-09 18:33:38 Starting - Starting the training job...\n",
      "2020-05-09 18:33:40 Starting - Launching requested ML instances......\n",
      "2020-05-09 18:34:45 Starting - Preparing the instances for training...\n",
      "2020-05-09 18:35:35 Downloading - Downloading input data...\n",
      "2020-05-09 18:36:07 Training - Downloading the training image...\n",
      "2020-05-09 18:36:39 Uploading - Uploading generated training model\n",
      "2020-05-09 18:36:39 Completed - Training job completed\n",
      "\u001b[34m2020-05-09 18:36:26,963 sagemaker-containers INFO     Imported framework sagemaker_sklearn_container.training\u001b[0m\n",
      "\u001b[34m2020-05-09 18:36:26,966 sagemaker-containers INFO     No GPUs detected (normal if no gpus installed)\u001b[0m\n",
      "\u001b[34m2020-05-09 18:36:26,976 sagemaker_sklearn_container.training INFO     Invoking user training script.\u001b[0m\n",
      "\u001b[34m2020-05-09 18:36:27,258 sagemaker-containers INFO     Module train does not provide a setup.py. \u001b[0m\n",
      "\u001b[34mGenerating setup.py\u001b[0m\n",
      "\u001b[34m2020-05-09 18:36:27,258 sagemaker-containers INFO     Generating setup.cfg\u001b[0m\n",
      "\u001b[34m2020-05-09 18:36:27,258 sagemaker-containers INFO     Generating MANIFEST.in\u001b[0m\n",
      "\u001b[34m2020-05-09 18:36:27,258 sagemaker-containers INFO     Installing module with the following command:\u001b[0m\n",
      "\u001b[34m/miniconda3/bin/python -m pip install . \u001b[0m\n",
      "\u001b[34mProcessing /opt/ml/code\u001b[0m\n",
      "\u001b[34mBuilding wheels for collected packages: train\n",
      "  Building wheel for train (setup.py): started\n",
      "  Building wheel for train (setup.py): finished with status 'done'\n",
      "  Created wheel for train: filename=train-1.0.0-py2.py3-none-any.whl size=5912 sha256=c0fb4ac236aaa00eb34eb2460a4ccd87b54c28d738b00143d0c1dfccd7d8b044\n",
      "  Stored in directory: /tmp/pip-ephem-wheel-cache-4x783txj/wheels/35/24/16/37574d11bf9bde50616c67372a334f94fa8356bc7164af8ca3\u001b[0m\n",
      "\u001b[34mSuccessfully built train\u001b[0m\n",
      "\u001b[34mInstalling collected packages: train\u001b[0m\n",
      "\u001b[34mSuccessfully installed train-1.0.0\u001b[0m\n",
      "\u001b[34m2020-05-09 18:36:28,682 sagemaker-containers INFO     No GPUs detected (normal if no gpus installed)\u001b[0m\n",
      "\u001b[34m2020-05-09 18:36:28,694 sagemaker-containers INFO     Invoking user script\n",
      "\u001b[0m\n",
      "\u001b[34mTraining Env:\n",
      "\u001b[0m\n",
      "\u001b[34m{\n",
      "    \"additional_framework_parameters\": {},\n",
      "    \"channel_input_dirs\": {\n",
      "        \"training\": \"/opt/ml/input/data/training\"\n",
      "    },\n",
      "    \"current_host\": \"algo-1\",\n",
      "    \"framework_module\": \"sagemaker_sklearn_container.training:main\",\n",
      "    \"hosts\": [\n",
      "        \"algo-1\"\n",
      "    ],\n",
      "    \"hyperparameters\": {\n",
      "        \"class_weight\": \"balanced\",\n",
      "        \"max_iter\": 15\n",
      "    },\n",
      "    \"input_config_dir\": \"/opt/ml/input/config\",\n",
      "    \"input_data_config\": {\n",
      "        \"training\": {\n",
      "            \"TrainingInputMode\": \"File\",\n",
      "            \"S3DistributionType\": \"FullyReplicated\",\n",
      "            \"RecordWrapperType\": \"None\"\n",
      "        }\n",
      "    },\n",
      "    \"input_dir\": \"/opt/ml/input\",\n",
      "    \"is_master\": true,\n",
      "    \"job_name\": \"sagemaker-scikit-learn-2020-05-09-18-33-38-557\",\n",
      "    \"log_level\": 20,\n",
      "    \"master_hostname\": \"algo-1\",\n",
      "    \"model_dir\": \"/opt/ml/model\",\n",
      "    \"module_dir\": \"s3://rsjainaimlmodels/sagemaker-scikit-learn-2020-05-09-18-33-38-557/source/sourcedir.tar.gz\",\n",
      "    \"module_name\": \"train\",\n",
      "    \"network_interface_name\": \"eth0\",\n",
      "    \"num_cpus\": 4,\n",
      "    \"num_gpus\": 0,\n",
      "    \"output_data_dir\": \"/opt/ml/output/data\",\n",
      "    \"output_dir\": \"/opt/ml/output\",\n",
      "    \"output_intermediate_dir\": \"/opt/ml/output/intermediate\",\n",
      "    \"resource_config\": {\n",
      "        \"current_host\": \"algo-1\",\n",
      "        \"hosts\": [\n",
      "            \"algo-1\"\n",
      "        ],\n",
      "        \"network_interface_name\": \"eth0\"\n",
      "    },\n",
      "    \"user_entry_point\": \"train.py\"\u001b[0m\n",
      "\u001b[34m}\n",
      "\u001b[0m\n",
      "\u001b[34mEnvironment variables:\n",
      "\u001b[0m\n",
      "\u001b[34mSM_HOSTS=[\"algo-1\"]\u001b[0m\n",
      "\u001b[34mSM_NETWORK_INTERFACE_NAME=eth0\u001b[0m\n",
      "\u001b[34mSM_HPS={\"class_weight\":\"balanced\",\"max_iter\":15}\u001b[0m\n",
      "\u001b[34mSM_USER_ENTRY_POINT=train.py\u001b[0m\n",
      "\u001b[34mSM_FRAMEWORK_PARAMS={}\u001b[0m\n",
      "\u001b[34mSM_RESOURCE_CONFIG={\"current_host\":\"algo-1\",\"hosts\":[\"algo-1\"],\"network_interface_name\":\"eth0\"}\u001b[0m\n",
      "\u001b[34mSM_INPUT_DATA_CONFIG={\"training\":{\"RecordWrapperType\":\"None\",\"S3DistributionType\":\"FullyReplicated\",\"TrainingInputMode\":\"File\"}}\u001b[0m\n",
      "\u001b[34mSM_OUTPUT_DATA_DIR=/opt/ml/output/data\u001b[0m\n",
      "\u001b[34mSM_CHANNELS=[\"training\"]\u001b[0m\n",
      "\u001b[34mSM_CURRENT_HOST=algo-1\u001b[0m\n",
      "\u001b[34mSM_MODULE_NAME=train\u001b[0m\n",
      "\u001b[34mSM_LOG_LEVEL=20\u001b[0m\n",
      "\u001b[34mSM_FRAMEWORK_MODULE=sagemaker_sklearn_container.training:main\u001b[0m\n",
      "\u001b[34mSM_INPUT_DIR=/opt/ml/input\u001b[0m\n",
      "\u001b[34mSM_INPUT_CONFIG_DIR=/opt/ml/input/config\u001b[0m\n",
      "\u001b[34mSM_OUTPUT_DIR=/opt/ml/output\u001b[0m\n",
      "\u001b[34mSM_NUM_CPUS=4\u001b[0m\n",
      "\u001b[34mSM_NUM_GPUS=0\u001b[0m\n",
      "\u001b[34mSM_MODEL_DIR=/opt/ml/model\u001b[0m\n",
      "\u001b[34mSM_MODULE_DIR=s3://rsjainaimlmodels/sagemaker-scikit-learn-2020-05-09-18-33-38-557/source/sourcedir.tar.gz\u001b[0m\n",
      "\u001b[34mSM_TRAINING_ENV={\"additional_framework_parameters\":{},\"channel_input_dirs\":{\"training\":\"/opt/ml/input/data/training\"},\"current_host\":\"algo-1\",\"framework_module\":\"sagemaker_sklearn_container.training:main\",\"hosts\":[\"algo-1\"],\"hyperparameters\":{\"class_weight\":\"balanced\",\"max_iter\":15},\"input_config_dir\":\"/opt/ml/input/config\",\"input_data_config\":{\"training\":{\"RecordWrapperType\":\"None\",\"S3DistributionType\":\"FullyReplicated\",\"TrainingInputMode\":\"File\"}},\"input_dir\":\"/opt/ml/input\",\"is_master\":true,\"job_name\":\"sagemaker-scikit-learn-2020-05-09-18-33-38-557\",\"log_level\":20,\"master_hostname\":\"algo-1\",\"model_dir\":\"/opt/ml/model\",\"module_dir\":\"s3://rsjainaimlmodels/sagemaker-scikit-learn-2020-05-09-18-33-38-557/source/sourcedir.tar.gz\",\"module_name\":\"train\",\"network_interface_name\":\"eth0\",\"num_cpus\":4,\"num_gpus\":0,\"output_data_dir\":\"/opt/ml/output/data\",\"output_dir\":\"/opt/ml/output\",\"output_intermediate_dir\":\"/opt/ml/output/intermediate\",\"resource_config\":{\"current_host\":\"algo-1\",\"hosts\":[\"algo-1\"],\"network_interface_name\":\"eth0\"},\"user_entry_point\":\"train.py\"}\u001b[0m\n",
      "\u001b[34mSM_USER_ARGS=[\"--class_weight\",\"balanced\",\"--max_iter\",\"15\"]\u001b[0m\n",
      "\u001b[34mSM_OUTPUT_INTERMEDIATE_DIR=/opt/ml/output/intermediate\u001b[0m\n",
      "\u001b[34mSM_CHANNEL_TRAINING=/opt/ml/input/data/training\u001b[0m\n",
      "\u001b[34mSM_HP_CLASS_WEIGHT=balanced\u001b[0m\n",
      "\u001b[34mSM_HP_MAX_ITER=15\u001b[0m\n",
      "\u001b[34mPYTHONPATH=/miniconda3/bin:/miniconda3/lib/python37.zip:/miniconda3/lib/python3.7:/miniconda3/lib/python3.7/lib-dynload:/miniconda3/lib/python3.7/site-packages\n",
      "\u001b[0m\n",
      "\u001b[34mInvoking script with the following command:\n",
      "\u001b[0m\n",
      "\u001b[34m/miniconda3/bin/python -m train --class_weight balanced --max_iter 15\n",
      "\n",
      "\u001b[0m\n",
      "\u001b[34m/miniconda3/lib/python3.7/site-packages/sklearn/externals/joblib/externals/cloudpickle/cloudpickle.py:47: DeprecationWarning: the imp module is deprecated in favour of importlib; see the module's documentation for alternative uses\n",
      "  import imp\u001b[0m\n",
      "\u001b[34m----> started model training\u001b[0m\n",
      "\u001b[34m---------------> Passed location for data is -> /opt/ml/input/data/training\u001b[0m\n",
      "\u001b[34m---------------> Files at this location are -> ['iris.csv']\u001b[0m\n",
      "\u001b[34m---------------> Reading data from -> /opt/ml/input/data/training/iris.csv\u001b[0m\n",
      "\u001b[34m---------------> Starting to fit model\u001b[0m\n",
      "\u001b[34m#011---------------> Max Iteration =  15\u001b[0m\n",
      "\u001b[34m#011---------------> Class Weigth =  balanced\u001b[0m\n",
      "\u001b[34m/miniconda3/lib/python3.7/site-packages/sklearn/linear_model/logistic.py:432: FutureWarning: Default solver will be changed to 'lbfgs' in 0.22. Specify a solver to silence this warning.\n",
      "  FutureWarning)\u001b[0m\n",
      "\u001b[34m/miniconda3/lib/python3.7/site-packages/sklearn/linear_model/logistic.py:459: FutureWarning: Default multi_class will be changed to 'auto' in 0.22. Specify the multi_class option to silence this warning.\n",
      "  \"this warning.\", FutureWarning)\u001b[0m\n",
      "\u001b[34m---------------> Starting to predict on test data\u001b[0m\n",
      "\u001b[34m#011---------------> Accuracy 0.9736842105263158\u001b[0m\n",
      "\u001b[34m----> ended model training\u001b[0m\n",
      "\u001b[34m#011----> started model dump\u001b[0m\n",
      "\u001b[34m#011----> ended model dump\u001b[0m\n",
      "\u001b[34m2020-05-09 18:36:30,305 sagemaker-containers INFO     Reporting training SUCCESS\u001b[0m\n",
      "Training seconds: 64\n",
      "Billable seconds: 64\n"
     ]
    }
   ],
   "source": [
    "executor.fit(s3_data_path)"
   ]
  },
  {
   "cell_type": "markdown",
   "metadata": {},
   "source": [
    "# Deploy Model"
   ]
  },
  {
   "cell_type": "code",
   "execution_count": 11,
   "metadata": {},
   "outputs": [
    {
     "name": "stdout",
     "output_type": "stream",
     "text": [
      "---------------!\n",
      "Model Deployed!\n",
      "sagemaker-scikit-learn-2020-05-09-18-33-38-557\n"
     ]
    }
   ],
   "source": [
    "predictor = executor.deploy(initial_instance_count=1, instance_type='ml.m4.xlarge')\n",
    "print('\\nModel Deployed!')\n",
    "\n",
    "print (predictor.endpoint)"
   ]
  },
  {
   "cell_type": "markdown",
   "metadata": {},
   "source": [
    "# Predict"
   ]
  },
  {
   "cell_type": "code",
   "execution_count": 12,
   "metadata": {},
   "outputs": [
    {
     "name": "stdout",
     "output_type": "stream",
     "text": [
      "[2. 2. 2. 2. 1. 1. 1. 1. 2. 0. 1. 1. 2. 1. 1. 2. 1. 0. 2. 0. 0. 1. 0. 2.\n",
      " 2. 0. 1. 2. 0. 0. 0. 2. 2. 1. 0. 1. 0. 0.]\n",
      "127    2.0\n",
      "149    2.0\n",
      "139    2.0\n",
      "146    2.0\n",
      "61     1.0\n",
      "65     1.0\n",
      "90     1.0\n",
      "74     1.0\n",
      "101    2.0\n",
      "15     0.0\n",
      "68     1.0\n",
      "79     1.0\n",
      "110    2.0\n",
      "95     1.0\n",
      "75     1.0\n",
      "125    2.0\n",
      "62     1.0\n",
      "5      0.0\n",
      "144    2.0\n",
      "20     0.0\n",
      "34     0.0\n",
      "51     1.0\n",
      "39     0.0\n",
      "104    2.0\n",
      "111    2.0\n",
      "9      0.0\n",
      "89     1.0\n",
      "140    2.0\n",
      "18     0.0\n",
      "21     0.0\n",
      "48     0.0\n",
      "128    2.0\n",
      "84     1.0\n",
      "92     1.0\n",
      "30     0.0\n",
      "96     1.0\n",
      "4      0.0\n",
      "7      0.0\n",
      "Name: class, dtype: float64\n"
     ]
    }
   ],
   "source": [
    "import pandas as pd\n",
    "from sklearn.model_selection import train_test_split\n",
    "\n",
    "data = pd.read_csv(DATA_FILE,engine='python')\n",
    "X = data.iloc[:,1:5]\n",
    "y = data.iloc[:,5]\n",
    "\n",
    "train_x, test_x, train_y, test_y = train_test_split(X,y)\n",
    "pred_y = predictor.predict(test_x.values)\n",
    "print (pred_y)\n",
    "print (test_y)"
   ]
  },
  {
   "cell_type": "code",
   "execution_count": null,
   "metadata": {},
   "outputs": [],
   "source": []
  }
 ],
 "metadata": {
  "kernelspec": {
   "display_name": "conda_tensorflow_p36",
   "language": "python",
   "name": "conda_tensorflow_p36"
  },
  "language_info": {
   "codemirror_mode": {
    "name": "ipython",
    "version": 3
   },
   "file_extension": ".py",
   "mimetype": "text/x-python",
   "name": "python",
   "nbconvert_exporter": "python",
   "pygments_lexer": "ipython3",
   "version": "3.6.6"
  }
 },
 "nbformat": 4,
 "nbformat_minor": 4
}
