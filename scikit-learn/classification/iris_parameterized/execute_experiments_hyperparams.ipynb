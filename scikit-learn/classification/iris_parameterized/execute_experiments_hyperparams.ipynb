{
 "cells": [
  {
   "cell_type": "markdown",
   "metadata": {},
   "source": [
    "### Install sagemaker-experiments"
   ]
  },
  {
   "cell_type": "code",
   "execution_count": 1,
   "metadata": {},
   "outputs": [],
   "source": [
    "import sagemaker\n",
    "import boto3\n",
    "\n",
    "session = sagemaker.Session()\n",
    "sm = boto3.Session().client('sagemaker')\n",
    "role = sagemaker.get_execution_role()"
   ]
  },
  {
   "cell_type": "markdown",
   "metadata": {},
   "source": [
    "### Split Data"
   ]
  },
  {
   "cell_type": "code",
   "execution_count": 2,
   "metadata": {},
   "outputs": [
    {
     "data": {
      "text/html": [
       "<div>\n",
       "<style scoped>\n",
       "    .dataframe tbody tr th:only-of-type {\n",
       "        vertical-align: middle;\n",
       "    }\n",
       "\n",
       "    .dataframe tbody tr th {\n",
       "        vertical-align: top;\n",
       "    }\n",
       "\n",
       "    .dataframe thead th {\n",
       "        text-align: right;\n",
       "    }\n",
       "</style>\n",
       "<table border=\"1\" class=\"dataframe\">\n",
       "  <thead>\n",
       "    <tr style=\"text-align: right;\">\n",
       "      <th></th>\n",
       "      <th>Unnamed: 0</th>\n",
       "      <th>sepal length</th>\n",
       "      <th>sepal width</th>\n",
       "      <th>petal length</th>\n",
       "      <th>petal width</th>\n",
       "      <th>class</th>\n",
       "    </tr>\n",
       "  </thead>\n",
       "  <tbody>\n",
       "    <tr>\n",
       "      <th>0</th>\n",
       "      <td>0</td>\n",
       "      <td>5.1</td>\n",
       "      <td>3.5</td>\n",
       "      <td>1.4</td>\n",
       "      <td>0.2</td>\n",
       "      <td>0.0</td>\n",
       "    </tr>\n",
       "    <tr>\n",
       "      <th>1</th>\n",
       "      <td>1</td>\n",
       "      <td>4.9</td>\n",
       "      <td>3.0</td>\n",
       "      <td>1.4</td>\n",
       "      <td>0.2</td>\n",
       "      <td>0.0</td>\n",
       "    </tr>\n",
       "    <tr>\n",
       "      <th>2</th>\n",
       "      <td>2</td>\n",
       "      <td>4.7</td>\n",
       "      <td>3.2</td>\n",
       "      <td>1.3</td>\n",
       "      <td>0.2</td>\n",
       "      <td>0.0</td>\n",
       "    </tr>\n",
       "    <tr>\n",
       "      <th>3</th>\n",
       "      <td>3</td>\n",
       "      <td>4.6</td>\n",
       "      <td>3.1</td>\n",
       "      <td>1.5</td>\n",
       "      <td>0.2</td>\n",
       "      <td>0.0</td>\n",
       "    </tr>\n",
       "    <tr>\n",
       "      <th>4</th>\n",
       "      <td>4</td>\n",
       "      <td>5.0</td>\n",
       "      <td>3.6</td>\n",
       "      <td>1.4</td>\n",
       "      <td>0.2</td>\n",
       "      <td>0.0</td>\n",
       "    </tr>\n",
       "  </tbody>\n",
       "</table>\n",
       "</div>"
      ],
      "text/plain": [
       "   Unnamed: 0  sepal length  sepal width  petal length  petal width  class\n",
       "0           0           5.1          3.5           1.4          0.2    0.0\n",
       "1           1           4.9          3.0           1.4          0.2    0.0\n",
       "2           2           4.7          3.2           1.3          0.2    0.0\n",
       "3           3           4.6          3.1           1.5          0.2    0.0\n",
       "4           4           5.0          3.6           1.4          0.2    0.0"
      ]
     },
     "execution_count": 2,
     "metadata": {},
     "output_type": "execute_result"
    }
   ],
   "source": [
    "import pandas as pd\n",
    "\n",
    "RANDOM_STATE = 99\n",
    "\n",
    "DATA_FILE = './aws_sagemaker/scikit-learn/classification/iris_parameterized/data/iris.csv'\n",
    "\n",
    "# load csv in memory\n",
    "data = pd.read_csv(DATA_FILE)\n",
    "data.head()"
   ]
  },
  {
   "cell_type": "code",
   "execution_count": 3,
   "metadata": {},
   "outputs": [
    {
     "data": {
      "text/html": [
       "<div>\n",
       "<style scoped>\n",
       "    .dataframe tbody tr th:only-of-type {\n",
       "        vertical-align: middle;\n",
       "    }\n",
       "\n",
       "    .dataframe tbody tr th {\n",
       "        vertical-align: top;\n",
       "    }\n",
       "\n",
       "    .dataframe thead th {\n",
       "        text-align: right;\n",
       "    }\n",
       "</style>\n",
       "<table border=\"1\" class=\"dataframe\">\n",
       "  <thead>\n",
       "    <tr style=\"text-align: right;\">\n",
       "      <th></th>\n",
       "      <th>Unnamed: 0</th>\n",
       "      <th>sepal length</th>\n",
       "      <th>sepal width</th>\n",
       "      <th>petal length</th>\n",
       "      <th>petal width</th>\n",
       "    </tr>\n",
       "  </thead>\n",
       "  <tbody>\n",
       "    <tr>\n",
       "      <th>5</th>\n",
       "      <td>5</td>\n",
       "      <td>5.4</td>\n",
       "      <td>3.9</td>\n",
       "      <td>1.7</td>\n",
       "      <td>0.4</td>\n",
       "    </tr>\n",
       "    <tr>\n",
       "      <th>12</th>\n",
       "      <td>12</td>\n",
       "      <td>4.8</td>\n",
       "      <td>3.0</td>\n",
       "      <td>1.4</td>\n",
       "      <td>0.1</td>\n",
       "    </tr>\n",
       "    <tr>\n",
       "      <th>17</th>\n",
       "      <td>17</td>\n",
       "      <td>5.1</td>\n",
       "      <td>3.5</td>\n",
       "      <td>1.4</td>\n",
       "      <td>0.3</td>\n",
       "    </tr>\n",
       "    <tr>\n",
       "      <th>19</th>\n",
       "      <td>19</td>\n",
       "      <td>5.1</td>\n",
       "      <td>3.8</td>\n",
       "      <td>1.5</td>\n",
       "      <td>0.3</td>\n",
       "    </tr>\n",
       "    <tr>\n",
       "      <th>20</th>\n",
       "      <td>20</td>\n",
       "      <td>5.4</td>\n",
       "      <td>3.4</td>\n",
       "      <td>1.7</td>\n",
       "      <td>0.2</td>\n",
       "    </tr>\n",
       "  </tbody>\n",
       "</table>\n",
       "</div>"
      ],
      "text/plain": [
       "    Unnamed: 0  sepal length  sepal width  petal length  petal width\n",
       "5            5           5.4          3.9           1.7          0.4\n",
       "12          12           4.8          3.0           1.4          0.1\n",
       "17          17           5.1          3.5           1.4          0.3\n",
       "19          19           5.1          3.8           1.5          0.3\n",
       "20          20           5.4          3.4           1.7          0.2"
      ]
     },
     "execution_count": 3,
     "metadata": {},
     "output_type": "execute_result"
    }
   ],
   "source": [
    "# split data into test and training\n",
    "train_data = data.sample(frac=0.8, random_state=RANDOM_STATE)\n",
    "test_data = data.drop(train_data.index)\n",
    "\n",
    "test_data = test_data.drop(['class'],axis=1)\n",
    "test_data.head()"
   ]
  },
  {
   "cell_type": "markdown",
   "metadata": {},
   "source": [
    "#### Define S3 Paths"
   ]
  },
  {
   "cell_type": "code",
   "execution_count": 8,
   "metadata": {},
   "outputs": [
    {
     "name": "stdout",
     "output_type": "stream",
     "text": [
      "Experiment metadata would be published at - s3://snowflake-getting-started/iris/hypertuning\n"
     ]
    }
   ],
   "source": [
    "BUCKET_NAME = 'snowflake-getting-started'\n",
    "BASE_PREFIX = 'iris'\n",
    "\n",
    "INPUT_DATA_PREFIX = BASE_PREFIX+'/data/input'\n",
    "TRAIN_DATA_PREFIX = BASE_PREFIX+'/data/input/train'\n",
    "TEST_DATA_PREFIX = BASE_PREFIX+'/data/input/test'\n",
    "\n",
    "EXPERIMENTS_OUTPUT_LOC = 's3://'+BUCKET_NAME+'/'+BASE_PREFIX+'/hypertuning'\n",
    "EXPERIMENTS_TRAINING_METRICS_PREFIX = BASE_PREFIX + '/hypertuning'\n",
    "EXP_SOURCE_CODE=EXPERIMENTS_OUTPUT_LOC+'/hypertuning/code'\n",
    "\n",
    "print ('Experiment metadata would be published at -',EXPERIMENTS_OUTPUT_LOC)"
   ]
  },
  {
   "cell_type": "markdown",
   "metadata": {},
   "source": [
    "#### Upload data to S3"
   ]
  },
  {
   "cell_type": "code",
   "execution_count": 9,
   "metadata": {},
   "outputs": [
    {
     "name": "stdout",
     "output_type": "stream",
     "text": [
      "Uploading train data to s3\n",
      "Input data uploaded to - s3://snowflake-getting-started/iris/data/input/iris.csv\n"
     ]
    }
   ],
   "source": [
    "print ('Uploading train data to s3')\n",
    "\n",
    "s3_input_data_path = session.upload_data(path=DATA_FILE, \n",
    "                           bucket=BUCKET_NAME, \n",
    "                           key_prefix=INPUT_DATA_PREFIX)\n",
    "\n",
    "print ('Input data uploaded to -', s3_input_data_path)"
   ]
  },
  {
   "cell_type": "code",
   "execution_count": 43,
   "metadata": {},
   "outputs": [
    {
     "name": "stderr",
     "output_type": "stream",
     "text": [
      "WARNING:sagemaker:This is not the latest supported version. If you would like to use version 0.23-1, please add framework_version=0.23-1 to your constructor.\n",
      "INFO:root:_TuningJob.start_new!!!\n",
      "WARNING:sagemaker:'s3_input' class will be renamed to 'TrainingInput' in SageMaker Python SDK v2.\n",
      "INFO:sagemaker:Creating hyperparameter tuning job with name: sagemaker-scikit-lea-200727-2131\n"
     ]
    }
   ],
   "source": [
    "from sagemaker.sklearn import SKLearn\n",
    "from smexperiments.trial import Trial\n",
    "from sagemaker.debugger import rule_configs, Rule, DebuggerHookConfig, CollectionConfig\n",
    "from sagemaker.tuner import HyperparameterTuner, IntegerParameter\n",
    "import csv\n",
    "\n",
    "sklearnestimator = SKLearn(entry_point='./aws_sagemaker/scikit-learn/classification/iris_parameterized/train.py',\n",
    "                              train_instance_type='ml.c4.xlarge',\n",
    "                              sagemaker_session = session,\n",
    "                              role = role,\n",
    "                              code_location  = EXP_SOURCE_CODE,\n",
    "                              input_mode='File',\n",
    "                              metric_definitions=[\n",
    "                                {'Name':'test:f1-score', 'Regex':'Test F1-Score: (.*)'},\n",
    "                                {'Name':'test:accuracy', 'Regex':'Test Accuracy: (.*)'}\n",
    "                              ],\n",
    "                              enable_sagemaker_metrics=True,\n",
    "                              output_path = 's3://snowflake-getting-started/iris/hypertuning'\n",
    "                        )\n",
    "\n",
    "# Configure HyperparameterTuner\n",
    "irisTuner = HyperparameterTuner(estimator=sklearnestimator,  # previously-configured Estimator object\n",
    "                               objective_metric_name='test:accuracy',\n",
    "                               hyperparameter_ranges={'max_iter': IntegerParameter(5,7)},\n",
    "                               metric_definitions=[{'Name': 'test:accuracy', 'Regex':'Test Accuracy: (.*)'}],\n",
    "                               max_jobs=2,\n",
    "                               max_parallel_jobs=1)\n",
    "\n",
    "# Start hyperparameter tuning job\n",
    "irisTuner.fit(inputs={'training': s3_input_data_path},\n",
    "              logs=True,\n",
    "              wait=True)\n"
   ]
  },
  {
   "cell_type": "code",
   "execution_count": 56,
   "metadata": {},
   "outputs": [
    {
     "name": "stdout",
     "output_type": "stream",
     "text": [
      "{'Completed': 1, 'InProgress': 1, 'RetryableError': 0, 'NonRetryableError': 0, 'Stopped': 0}\n"
     ]
    }
   ],
   "source": [
    "print (irisTuner.describe()['TrainingJobStatusCounters'])"
   ]
  },
  {
   "cell_type": "code",
   "execution_count": 61,
   "metadata": {},
   "outputs": [
    {
     "data": {
      "text/html": [
       "<div>\n",
       "<style scoped>\n",
       "    .dataframe tbody tr th:only-of-type {\n",
       "        vertical-align: middle;\n",
       "    }\n",
       "\n",
       "    .dataframe tbody tr th {\n",
       "        vertical-align: top;\n",
       "    }\n",
       "\n",
       "    .dataframe thead th {\n",
       "        text-align: right;\n",
       "    }\n",
       "</style>\n",
       "<table border=\"1\" class=\"dataframe\">\n",
       "  <thead>\n",
       "    <tr style=\"text-align: right;\">\n",
       "      <th></th>\n",
       "      <th>max_iter</th>\n",
       "      <th>TrainingJobName</th>\n",
       "      <th>TrainingJobStatus</th>\n",
       "      <th>FinalObjectiveValue</th>\n",
       "      <th>TrainingStartTime</th>\n",
       "      <th>TrainingEndTime</th>\n",
       "      <th>TrainingElapsedTimeSeconds</th>\n",
       "    </tr>\n",
       "  </thead>\n",
       "  <tbody>\n",
       "    <tr>\n",
       "      <th>0</th>\n",
       "      <td>6.0</td>\n",
       "      <td>sagemaker-scikit-lea-200727-2131-002-775d484e</td>\n",
       "      <td>Completed</td>\n",
       "      <td>1.000000</td>\n",
       "      <td>2020-07-27 21:36:53+00:00</td>\n",
       "      <td>2020-07-27 21:37:50+00:00</td>\n",
       "      <td>57.0</td>\n",
       "    </tr>\n",
       "    <tr>\n",
       "      <th>1</th>\n",
       "      <td>5.0</td>\n",
       "      <td>sagemaker-scikit-lea-200727-2131-001-3e5520dd</td>\n",
       "      <td>Completed</td>\n",
       "      <td>0.947368</td>\n",
       "      <td>2020-07-27 21:33:43+00:00</td>\n",
       "      <td>2020-07-27 21:34:46+00:00</td>\n",
       "      <td>63.0</td>\n",
       "    </tr>\n",
       "  </tbody>\n",
       "</table>\n",
       "</div>"
      ],
      "text/plain": [
       "   max_iter                                TrainingJobName TrainingJobStatus  \\\n",
       "0       6.0  sagemaker-scikit-lea-200727-2131-002-775d484e         Completed   \n",
       "1       5.0  sagemaker-scikit-lea-200727-2131-001-3e5520dd         Completed   \n",
       "\n",
       "   FinalObjectiveValue         TrainingStartTime           TrainingEndTime  \\\n",
       "0             1.000000 2020-07-27 21:36:53+00:00 2020-07-27 21:37:50+00:00   \n",
       "1             0.947368 2020-07-27 21:33:43+00:00 2020-07-27 21:34:46+00:00   \n",
       "\n",
       "   TrainingElapsedTimeSeconds  \n",
       "0                        57.0  \n",
       "1                        63.0  "
      ]
     },
     "execution_count": 61,
     "metadata": {},
     "output_type": "execute_result"
    }
   ],
   "source": [
    "irisTuner.analytics().dataframe()"
   ]
  },
  {
   "cell_type": "markdown",
   "metadata": {},
   "source": [
    "### Compare the model training runs for an experiment\n",
    "\n",
    "Now we will use the analytics capabilities of Python SDK to query and compare the training runs for identifying the best model produced by our experiment. You can retrieve trial components by using a search expression."
   ]
  },
  {
   "cell_type": "markdown",
   "metadata": {},
   "source": [
    "### Some Simple Analyses"
   ]
  },
  {
   "cell_type": "code",
   "execution_count": null,
   "metadata": {},
   "outputs": [],
   "source": [
    "# Retrieve analytics object\n",
    "irisTuner_analytics = irisTuner.analytics()\n",
    "\n",
    "# Look at summary of associated training jobs\n",
    "tuner_dataframe = irisTuner_analytics.dataframe()\n",
    "\n",
    "print(tuner_dataframe)"
   ]
  },
  {
   "cell_type": "code",
   "execution_count": null,
   "metadata": {},
   "outputs": [],
   "source": []
  }
 ],
 "metadata": {
  "instance_type": "ml.t3.medium",
  "kernelspec": {
   "display_name": "Python 3 (Data Science)",
   "language": "python",
   "name": "python3__SAGEMAKER_INTERNAL__arn:aws:sagemaker:eu-west-1:470317259841:image/datascience-1.0"
  },
  "language_info": {
   "codemirror_mode": {
    "name": "ipython",
    "version": 3
   },
   "file_extension": ".py",
   "mimetype": "text/x-python",
   "name": "python",
   "nbconvert_exporter": "python",
   "pygments_lexer": "ipython3",
   "version": "3.7.6"
  }
 },
 "nbformat": 4,
 "nbformat_minor": 4
}
