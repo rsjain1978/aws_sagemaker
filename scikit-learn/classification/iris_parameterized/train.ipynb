{
 "cells": [
  {
   "cell_type": "code",
   "execution_count": 4,
   "metadata": {},
   "outputs": [
    {
     "name": "stdout",
     "output_type": "stream",
     "text": [
      "Overwriting train.py\n"
     ]
    }
   ],
   "source": [
    "%%writefile train.py\n",
    "\n",
    "import pandas as pd\n",
    "import numpy as np\n",
    "import os\n",
    "import argparse\n",
    "\n",
    "from sklearn.externals import joblib\n",
    "from sklearn.model_selection import train_test_split\n",
    "from sklearn.linear_model import LogisticRegression\n",
    "from sklearn.metrics import accuracy_score\n",
    "from sklearn.metrics import f1_score\n"
   ]
  },
  {
   "cell_type": "code",
   "execution_count": 5,
   "metadata": {},
   "outputs": [],
   "source": [
    "#os.environ['SM_MODEL_DIR']='.'\n",
    "#os.environ['SM_CHANNEL_TRAINING']='./data'\n",
    "#os.environ['max_iter']='10'\n",
    "#os.environ['class_weight']='balanced'"
   ]
  },
  {
   "cell_type": "code",
   "execution_count": 6,
   "metadata": {},
   "outputs": [
    {
     "name": "stdout",
     "output_type": "stream",
     "text": [
      "Appending to train.py\n"
     ]
    }
   ],
   "source": [
    "%%writefile -a train.py\n",
    "\n",
    "def train_model(data_loc_dir, \n",
    "                max_iter_param,\n",
    "               class_weight_param):\n",
    "           \n",
    "    filename = '/iris.csv'\n",
    "    \n",
    "    print ('---------------> Passed location for data is ->', data_loc_dir)\n",
    "    print ('---------------> Files at this location are ->', os.listdir(data_loc_dir))\n",
    "    print ('---------------> Reading data from ->',data_loc_dir+filename)\n",
    "    \n",
    "    data = pd.read_csv(data_loc_dir+filename, engine='python')\n",
    "    \n",
    "    X = data.iloc[:,1:5]\n",
    "    y = data.iloc[:,5]\n",
    "    \n",
    "    train_x, test_x, train_y, test_y = train_test_split(X,y)\n",
    "    \n",
    "    print ('---------------> Starting to fit model')\n",
    "    print ('\\t---------------> Max Iteration = ', max_iter_param)\n",
    "    print ('\\t---------------> Class Weigth = ', class_weight_param)\n",
    "    model = LogisticRegression(max_iter=max_iter_param,\n",
    "                              class_weight=class_weight_param)\n",
    "    \n",
    "    model.fit(train_x, train_y)\n",
    "    \n",
    "    print ('---------------> Starting to predict on test data')\n",
    "    pred_y = model.predict(test_x)\n",
    "    \n",
    "    print ('Test Accuracy: %s'%(accuracy_score(test_y, pred_y)))\n",
    "    print ('Test F1-Score: %s'%(accuracy_score(test_y, pred_y)))\n",
    "    \n",
    "    return model"
   ]
  },
  {
   "cell_type": "code",
   "execution_count": 7,
   "metadata": {},
   "outputs": [
    {
     "name": "stdout",
     "output_type": "stream",
     "text": [
      "Appending to train.py\n"
     ]
    }
   ],
   "source": [
    "%%writefile -a train.py\n",
    "\n",
    "if __name__ =='__main__':\n",
    "\n",
    "    parser = argparse.ArgumentParser()\n",
    "\n",
    "    # hyperparameters sent by the client are passed as command-line arguments to the script.\n",
    "    parser.add_argument('--max_iter', type=int, default=100)\n",
    "    parser.add_argument('--class_weight', type=str, default='balanced')\n",
    "    \n",
    "    parser.add_argument('--model_dir', type=str, default=os.environ['SM_MODEL_DIR'])\n",
    "    parser.add_argument('--train', type=str, default=os.environ['SM_CHANNEL_TRAINING'])\n",
    "    \n",
    "    args, _ = parser.parse_known_args()\n",
    "\n",
    "    max_iter = args.max_iter\n",
    "    class_weight = args.class_weight\n",
    "    \n",
    "    print ('----> started model training')\n",
    "    model = train_model(args.train, max_iter,class_weight)   \n",
    "    print ('----> ended model training')\n",
    "    \n",
    "    print ('\\t----> started model dump')\n",
    "    joblib.dump(model, os.path.join(args.model_dir,'model.joblib'))\n",
    "    print ('\\t----> ended model dump')\n",
    "    \n",
    "def model_fn(model_dir):\n",
    "    \"\"\"Deserialized and return fitted model\n",
    "\n",
    "    Note that this should have the same name as the serialized model in the main method\n",
    "    \"\"\"\n",
    "    clf = joblib.load(os.path.join(model_dir, \"model.joblib\"))\n",
    "    return clf     "
   ]
  },
  {
   "cell_type": "code",
   "execution_count": null,
   "metadata": {},
   "outputs": [],
   "source": []
  }
 ],
 "metadata": {
  "instance_type": "ml.t3.medium",
  "kernelspec": {
   "display_name": "Python 3 (Data Science)",
   "language": "python",
   "name": "python3__SAGEMAKER_INTERNAL__arn:aws:sagemaker:eu-west-1:470317259841:image/datascience-1.0"
  },
  "language_info": {
   "codemirror_mode": {
    "name": "ipython",
    "version": 3
   },
   "file_extension": ".py",
   "mimetype": "text/x-python",
   "name": "python",
   "nbconvert_exporter": "python",
   "pygments_lexer": "ipython3",
   "version": "3.7.6"
  }
 },
 "nbformat": 4,
 "nbformat_minor": 4
}
