{
 "cells": [
  {
   "cell_type": "code",
   "execution_count": 1,
   "metadata": {},
   "outputs": [
    {
     "name": "stderr",
     "output_type": "stream",
     "text": [
      "C:\\MachineLearning\\anaconda3\\envs\\tf2-gpu\\lib\\site-packages\\sklearn\\externals\\joblib\\__init__.py:15: FutureWarning: sklearn.externals.joblib is deprecated in 0.21 and will be removed in 0.23. Please import this functionality directly from joblib, which can be installed with: pip install joblib. If this warning is raised when loading pickled models, you may need to re-serialize those models with scikit-learn 0.21+.\n",
      "  warnings.warn(msg, category=FutureWarning)\n"
     ]
    }
   ],
   "source": [
    "import pandas as pd\n",
    "import numpy as np\n",
    "import os\n",
    "import argparse\n",
    "\n",
    "from sklearn.externals import joblib\n",
    "from sklearn.model_selection import train_test_split\n",
    "from sklearn.linear_model import LogisticRegression\n",
    "from sklearn.metrics import accuracy_score"
   ]
  },
  {
   "cell_type": "code",
   "execution_count": 2,
   "metadata": {},
   "outputs": [],
   "source": [
    "os.environ['SM_MODEL_DIR']='.'\n",
    "os.environ['SM_CHANNEL_TRAINING']='./data'\n",
    "os.environ['max_iter']='10'\n",
    "os.environ['class_weight']='balanced'"
   ]
  },
  {
   "cell_type": "code",
   "execution_count": 3,
   "metadata": {},
   "outputs": [],
   "source": [
    "def train_model(data_loc_dir, \n",
    "                max_iter_param,\n",
    "               class_weight_param):\n",
    "           \n",
    "    filename = '/iris.csv'\n",
    "    \n",
    "    print ('---------------> Passed location for data is ->', data_loc_dir)\n",
    "    print ('---------------> Files at this location are ->', os.listdir(data_loc_dir))\n",
    "    print ('---------------> Reading data from ->',data_loc_dir+filename)\n",
    "    \n",
    "    data = pd.read_csv(data_loc_dir+filename, engine='python')\n",
    "    \n",
    "    X = data.iloc[:,1:5]\n",
    "    y = data.iloc[:,5]\n",
    "    \n",
    "    train_x, test_x, train_y, test_y = train_test_split(X,y)\n",
    "    \n",
    "    print ('---------------> Starting to fit model')\n",
    "    print ('\\t---------------> Max Iteration = ', max_iter_param)\n",
    "    print ('\\t---------------> Class Weigth = ', class_weight_param)\n",
    "    model = LogisticRegression(max_iter=max_iter_param,\n",
    "                              class_weight=class_weight_param)\n",
    "    \n",
    "    model.fit(train_x, train_y)\n",
    "    \n",
    "    print ('---------------> Starting to predict on test data')\n",
    "    pred_y = model.predict(test_x)\n",
    "    \n",
    "    print ('\\t---------------> Accuracy %s'%(accuracy_score(test_y, pred_y)))\n",
    "    \n",
    "    return model"
   ]
  },
  {
   "cell_type": "code",
   "execution_count": 5,
   "metadata": {},
   "outputs": [
    {
     "name": "stdout",
     "output_type": "stream",
     "text": [
      "----> started model training\n",
      "---------------> Passed location for data is -> ./data\n",
      "---------------> Files at this location are -> ['iris.csv']\n",
      "---------------> Reading data from -> ./data/iris.csv\n",
      "---------------> Starting to fit model\n",
      "\t---------------> Max Iteration =  100\n",
      "\t---------------> Class Weigth =  balanced\n",
      "---------------> Starting to predict on test data\n",
      "\t---------------> Accuracy 0.9473684210526315\n",
      "----> ended model training\n",
      "\t----> started model dump\n",
      "\t----> ended model dump\n"
     ]
    }
   ],
   "source": [
    "if __name__ =='__main__':\n",
    "\n",
    "    parser = argparse.ArgumentParser()\n",
    "\n",
    "    # hyperparameters sent by the client are passed as command-line arguments to the script.\n",
    "    parser.add_argument('--max_iter', type=int, default=100)\n",
    "    parser.add_argument('--class_weight', type=str, default='balanced')\n",
    "    \n",
    "    parser.add_argument('--model_dir', type=str, default=os.environ['SM_MODEL_DIR'])\n",
    "    parser.add_argument('--train', type=str, default=os.environ['SM_CHANNEL_TRAINING'])\n",
    "    \n",
    "    args, _ = parser.parse_known_args()\n",
    "\n",
    "    max_iter = args.max_iter\n",
    "    class_weight = args.class_weight\n",
    "    \n",
    "    print ('----> started model training')\n",
    "    model = train_model(args.train, max_iter,class_weight)   \n",
    "    print ('----> ended model training')\n",
    "    \n",
    "    print ('\\t----> started model dump')\n",
    "    joblib.dump(model, os.path.join(args.model_dir,'model.joblib'))\n",
    "    print ('\\t----> ended model dump')\n",
    "    \n",
    "def model_fn(model_dir):\n",
    "    \"\"\"Deserialized and return fitted model\n",
    "\n",
    "    Note that this should have the same name as the serialized model in the main method\n",
    "    \"\"\"\n",
    "    clf = joblib.load(os.path.join(model_dir, \"model.joblib\"))\n",
    "    return clf     "
   ]
  },
  {
   "cell_type": "code",
   "execution_count": null,
   "metadata": {},
   "outputs": [],
   "source": []
  }
 ],
 "metadata": {
  "kernelspec": {
   "display_name": "Python 3",
   "language": "python",
   "name": "python3"
  },
  "language_info": {
   "codemirror_mode": {
    "name": "ipython",
    "version": 3
   },
   "file_extension": ".py",
   "mimetype": "text/x-python",
   "name": "python",
   "nbconvert_exporter": "python",
   "pygments_lexer": "ipython3",
   "version": "3.7.6"
  }
 },
 "nbformat": 4,
 "nbformat_minor": 4
}
