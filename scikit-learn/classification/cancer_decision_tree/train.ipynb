{
 "cells": [
  {
   "cell_type": "code",
   "execution_count": 2,
   "metadata": {},
   "outputs": [
    {
     "name": "stdout",
     "output_type": "stream",
     "text": [
      "Writing train.py\n"
     ]
    }
   ],
   "source": [
    "%%writefile train.py\n",
    "\n",
    "import pandas as pd\n",
    "import numpy as np\n",
    "import os\n",
    "import argparse\n",
    "\n",
    "from sklearn.externals import joblib\n",
    "from sklearn.model_selection import train_test_split\n",
    "from sklearn.tree import DecisionTreeClassifier\n",
    "from sklearn.metrics import f1_score"
   ]
  },
  {
   "cell_type": "code",
   "execution_count": 3,
   "metadata": {},
   "outputs": [],
   "source": [
    "#os.environ['SM_MODEL_DIR']='.'\n",
    "#os.environ['SM_CHANNEL_TRAINING']='./data'\n",
    "#os.environ['max_depth_param']='10'\n",
    "#os.environ['max_features_param']='10'"
   ]
  },
  {
   "cell_type": "code",
   "execution_count": 4,
   "metadata": {},
   "outputs": [
    {
     "name": "stdout",
     "output_type": "stream",
     "text": [
      "Appending to train.py\n"
     ]
    }
   ],
   "source": [
    "%%writefile -a train.py\n",
    "\n",
    "def train_model(data_loc_dir, \n",
    "                max_depth_param,\n",
    "               max_features_param):\n",
    "           \n",
    "    filename = '/cancer.csv'\n",
    "    \n",
    "    print ('---------------> Passed location for data is ->', data_loc_dir)\n",
    "    print ('---------------> Files at this location are ->', os.listdir(data_loc_dir))\n",
    "    print ('---------------> Reading data from ->',data_loc_dir+filename)\n",
    "    \n",
    "    data = pd.read_csv(data_loc_dir+filename, engine='python')\n",
    "    \n",
    "    X = data.iloc[:,1:31]\n",
    "    y = data.iloc[:,31]\n",
    "    \n",
    "    train_x, test_x, train_y, test_y = train_test_split(X,y)\n",
    "    \n",
    "    print ('---------------> Starting to fit model')\n",
    "    print ('\\t---------------> Max Depth = ', max_depth_param)\n",
    "    print ('\\t---------------> Max Features = ', max_features_param)\n",
    "    model = DecisionTreeClassifier(max_depth=max_depth_param,\n",
    "                                  max_features=max_features_param)\n",
    "    \n",
    "    model.fit(train_x, train_y)\n",
    "    \n",
    "    print ('---------------> Starting to predict on test data')\n",
    "    pred_y = model.predict(test_x)\n",
    "    \n",
    "    print ('\\t---------------> F1-Score %s'%(f1_score(test_y, pred_y)))\n",
    "    \n",
    "    return model"
   ]
  },
  {
   "cell_type": "code",
   "execution_count": 5,
   "metadata": {},
   "outputs": [
    {
     "name": "stdout",
     "output_type": "stream",
     "text": [
      "Appending to train.py\n"
     ]
    }
   ],
   "source": [
    "%%writefile -a train.py\n",
    "\n",
    "if __name__ =='__main__':\n",
    "\n",
    "    parser = argparse.ArgumentParser()\n",
    "\n",
    "    # hyperparameters sent by the client are passed as command-line arguments to the script.\n",
    "    parser.add_argument('--max_depth', type=int, default=10)\n",
    "    parser.add_argument('--max_features', type=int, default=20)\n",
    "    \n",
    "    parser.add_argument('--model_dir', type=str, default=os.environ['SM_MODEL_DIR'])\n",
    "    parser.add_argument('--train', type=str, default=os.environ['SM_CHANNEL_TRAINING'])\n",
    "    \n",
    "    args, _ = parser.parse_known_args()\n",
    "\n",
    "    max_depth = args.max_depth\n",
    "    max_features = args.max_features\n",
    "    \n",
    "    print ('----> started model training')\n",
    "    model = train_model(args.train, max_depth,max_features)   \n",
    "    print ('----> ended model training')\n",
    "    \n",
    "    print ('\\t----> started model dump')\n",
    "    joblib.dump(model, os.path.join(args.model_dir,'cancer.model.joblib'))\n",
    "    print ('\\t----> ended model dump')\n",
    "    \n",
    "def model_fn(model_dir):\n",
    "    \"\"\"Deserialized and return fitted model\n",
    "\n",
    "    Note that this should have the same name as the serialized model in the main method\n",
    "    \"\"\"\n",
    "    clf = joblib.load(os.path.join(model_dir, \"cancer.model.joblib\"))\n",
    "    return clf     "
   ]
  },
  {
   "cell_type": "code",
   "execution_count": null,
   "metadata": {},
   "outputs": [],
   "source": []
  }
 ],
 "metadata": {
  "kernelspec": {
   "display_name": "conda_tensorflow_p36",
   "language": "python",
   "name": "conda_tensorflow_p36"
  },
  "language_info": {
   "codemirror_mode": {
    "name": "ipython",
    "version": 3
   },
   "file_extension": ".py",
   "mimetype": "text/x-python",
   "name": "python",
   "nbconvert_exporter": "python",
   "pygments_lexer": "ipython3",
   "version": "3.6.6"
  }
 },
 "nbformat": 4,
 "nbformat_minor": 4
}
