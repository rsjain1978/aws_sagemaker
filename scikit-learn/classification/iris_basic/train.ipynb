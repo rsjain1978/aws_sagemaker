{
 "cells": [
  {
   "cell_type": "code",
   "execution_count": 1,
   "metadata": {},
   "outputs": [
    {
     "name": "stdout",
     "output_type": "stream",
     "text": [
      "Writing train.py\n"
     ]
    }
   ],
   "source": [
    "%%writefile train.py\n",
    "\n",
    "import pandas as pd\n",
    "import numpy as np\n",
    "import os\n",
    "import argparse\n",
    "from sklearn.externals import joblib\n",
    "\n",
    "from sklearn.datasets import load_iris\n",
    "from sklearn.model_selection import train_test_split\n",
    "from sklearn.linear_model import LogisticRegression\n",
    "from sklearn.metrics import accuracy_score\n"
   ]
  },
  {
   "cell_type": "code",
   "execution_count": 2,
   "metadata": {},
   "outputs": [
    {
     "name": "stdout",
     "output_type": "stream",
     "text": [
      "Appending to train.py\n"
     ]
    }
   ],
   "source": [
    "%%writefile -a train.py \n",
    "\n",
    "def prepare_dataset():\n",
    "\n",
    "    #load iris dataset\n",
    "    data = load_iris()\n",
    "\n",
    "    #extract X & y\n",
    "    X = data.data\n",
    "    y = data.target\n",
    "    y= y.reshape(-1,1)\n",
    "    zipped_data = np.append(X,y,axis=1)\n",
    "    \n",
    "    #create df\n",
    "    iris_df = pd.DataFrame(data = zipped_data,\n",
    "                           columns=['sepal length','sepal width','petal length','petal width','class'])\n",
    "\n",
    "    #check df looks ok\n",
    "    iris_df.head()\n",
    "\n",
    "    #persist df to file\n",
    "    os.makedirs('data',exist_ok=True)\n",
    "    iris_df.to_csv('./data/iris.csv')\n",
    "    \n",
    "#prepare_dataset()\n"
   ]
  },
  {
   "cell_type": "code",
   "execution_count": 3,
   "metadata": {},
   "outputs": [
    {
     "name": "stdout",
     "output_type": "stream",
     "text": [
      "Appending to train.py\n"
     ]
    }
   ],
   "source": [
    "%%writefile -a train.py \n",
    "\n",
    "def train_model(data_location):\n",
    "    \n",
    "    print ('----> created model')\n",
    "    model = LogisticRegression()\n",
    "\n",
    "    print ('-----> directory listing',os.listdir(data_location))\n",
    "    print ('----> reading data file from ', data_location+'/iris.csv')\n",
    "    data = pd.read_csv(data_location+'/iris.csv',engine='python')\n",
    "    X = data.iloc[:,1:5]\n",
    "    y = data.iloc[:,5]\n",
    "\n",
    "    train_x, test_x, train_y, test_y = train_test_split(X,y)\n",
    "    \n",
    "    print ('----> starting model fit')\n",
    "    model.fit(train_x, train_y)\n",
    "\n",
    "    print ('----> starting model predictions on test data')\n",
    "    pred_y = model.predict(test_x)\n",
    "    print ('F1 score on test data is -',accuracy_score(test_y, pred_y))\n",
    "    \n",
    "    return model\n"
   ]
  },
  {
   "cell_type": "code",
   "execution_count": 4,
   "metadata": {},
   "outputs": [
    {
     "name": "stdout",
     "output_type": "stream",
     "text": [
      "Appending to train.py\n"
     ]
    }
   ],
   "source": [
    "%%writefile -a train.py \n",
    "\n",
    "if __name__ =='__main__':\n",
    "\n",
    "    parser = argparse.ArgumentParser()\n",
    "\n",
    "    # hyperparameters sent by the client are passed as command-line arguments to the script.\n",
    "    parser.add_argument('--epochs', type=int, default=3)\n",
    "    parser.add_argument('--batch_size', type=int, default=16)\n",
    "    parser.add_argument('--steps', type=int, default=int(5873/16))\n",
    "    parser.add_argument('--val_steps', type=int, default=(1476/16))\n",
    "\n",
    "    # input data and model directories\n",
    "    #parser.add_argument('--sm-model-dir', type=str, default='.')\n",
    "    #parser.add_argument('--train', type=str, default='./data/iris.csv')\n",
    "\n",
    "    parser.add_argument('--model_dir', type=str, default=os.environ['SM_MODEL_DIR'])\n",
    "    parser.add_argument('--train', type=str, default=os.environ['SM_CHANNEL_TRAINING'])\n",
    "    \n",
    "    args, _ = parser.parse_known_args()\n",
    "\n",
    "    batch_size = args.batch_size\n",
    "    \n",
    "    print ('----> started model training')\n",
    "    model = train_model(args.train)   \n",
    "    print ('----> ended model training')\n",
    "    \n",
    "    print ('----> started model dump')\n",
    "    joblib.dump(model, os.path.join(args.model_dir,'model.joblib'))\n",
    "    print ('----> ended model dump')\n",
    "    \n",
    "def model_fn(model_dir):\n",
    "    \"\"\"Deserialized and return fitted model\n",
    "\n",
    "    Note that this should have the same name as the serialized model in the main method\n",
    "    \"\"\"\n",
    "    clf = joblib.load(os.path.join(model_dir, \"model.joblib\"))\n",
    "    return clf     "
   ]
  },
  {
   "cell_type": "code",
   "execution_count": null,
   "metadata": {},
   "outputs": [],
   "source": []
  },
  {
   "cell_type": "code",
   "execution_count": null,
   "metadata": {},
   "outputs": [],
   "source": []
  },
  {
   "cell_type": "code",
   "execution_count": null,
   "metadata": {},
   "outputs": [],
   "source": []
  }
 ],
 "metadata": {
  "kernelspec": {
   "display_name": "conda_tensorflow_p36",
   "language": "python",
   "name": "conda_tensorflow_p36"
  },
  "language_info": {
   "codemirror_mode": {
    "name": "ipython",
    "version": 3
   },
   "file_extension": ".py",
   "mimetype": "text/x-python",
   "name": "python",
   "nbconvert_exporter": "python",
   "pygments_lexer": "ipython3",
   "version": "3.6.6"
  }
 },
 "nbformat": 4,
 "nbformat_minor": 4
}
