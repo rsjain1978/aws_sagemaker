{
 "cells": [
  {
   "cell_type": "code",
   "execution_count": 1,
   "metadata": {},
   "outputs": [
    {
     "name": "stdout",
     "output_type": "stream",
     "text": [
      "Collecting sagemaker\n",
      "  Downloading sagemaker-1.58.0.tar.gz (304 kB)\n",
      "Collecting boto3>=1.10.44\n",
      "  Downloading boto3-1.13.6-py2.py3-none-any.whl (128 kB)\n",
      "Requirement already satisfied: numpy>=1.9.0 in c:\\machinelearning\\anaconda3\\envs\\tf2-gpu\\lib\\site-packages (from sagemaker) (1.18.1)\n",
      "Requirement already satisfied: protobuf>=3.1 in c:\\machinelearning\\anaconda3\\envs\\tf2-gpu\\lib\\site-packages (from sagemaker) (3.11.3)\n",
      "Requirement already satisfied: scipy>=0.19.0 in c:\\machinelearning\\anaconda3\\envs\\tf2-gpu\\lib\\site-packages (from sagemaker) (1.4.1)\n",
      "Collecting protobuf3-to-dict>=0.1.5\n",
      "  Downloading protobuf3-to-dict-0.1.5.tar.gz (3.5 kB)\n",
      "Collecting smdebug-rulesconfig==0.1.2\n",
      "  Downloading smdebug_rulesconfig-0.1.2-py2.py3-none-any.whl (10 kB)\n",
      "Requirement already satisfied: importlib-metadata>=1.4.0 in c:\\machinelearning\\anaconda3\\envs\\tf2-gpu\\lib\\site-packages (from sagemaker) (1.5.0)\n",
      "Requirement already satisfied: packaging>=20.0 in c:\\machinelearning\\anaconda3\\envs\\tf2-gpu\\lib\\site-packages (from sagemaker) (20.1)\n",
      "Collecting jmespath<1.0.0,>=0.7.1\n",
      "  Downloading jmespath-0.9.5-py2.py3-none-any.whl (24 kB)\n",
      "Collecting botocore<1.17.0,>=1.16.6\n",
      "  Downloading botocore-1.16.6-py2.py3-none-any.whl (6.2 MB)\n",
      "Collecting s3transfer<0.4.0,>=0.3.0\n",
      "  Downloading s3transfer-0.3.3-py2.py3-none-any.whl (69 kB)\n",
      "Requirement already satisfied: setuptools in c:\\machinelearning\\anaconda3\\envs\\tf2-gpu\\lib\\site-packages (from protobuf>=3.1->sagemaker) (45.2.0.post20200210)\n",
      "Requirement already satisfied: six>=1.9 in c:\\machinelearning\\anaconda3\\envs\\tf2-gpu\\lib\\site-packages (from protobuf>=3.1->sagemaker) (1.14.0)\n",
      "Requirement already satisfied: zipp>=0.5 in c:\\machinelearning\\anaconda3\\envs\\tf2-gpu\\lib\\site-packages (from importlib-metadata>=1.4.0->sagemaker) (2.2.0)\n",
      "Requirement already satisfied: pyparsing>=2.0.2 in c:\\machinelearning\\anaconda3\\envs\\tf2-gpu\\lib\\site-packages (from packaging>=20.0->sagemaker) (2.4.6)\n",
      "Collecting docutils<0.16,>=0.10\n",
      "  Using cached docutils-0.15.2-py3-none-any.whl (547 kB)\n",
      "Requirement already satisfied: urllib3<1.26,>=1.20; python_version != \"3.4\" in c:\\machinelearning\\anaconda3\\envs\\tf2-gpu\\lib\\site-packages (from botocore<1.17.0,>=1.16.6->boto3>=1.10.44->sagemaker) (1.25.8)\n",
      "Requirement already satisfied: python-dateutil<3.0.0,>=2.1 in c:\\machinelearning\\anaconda3\\envs\\tf2-gpu\\lib\\site-packages (from botocore<1.17.0,>=1.16.6->boto3>=1.10.44->sagemaker) (2.8.1)\n",
      "Building wheels for collected packages: sagemaker, protobuf3-to-dict\n",
      "  Building wheel for sagemaker (setup.py): started\n",
      "  Building wheel for sagemaker (setup.py): finished with status 'done'\n",
      "  Created wheel for sagemaker: filename=sagemaker-1.58.0-py2.py3-none-any.whl size=400349 sha256=6f3039bf43e1f3cae31f6155c2673284b9686da8888546c920872b3ed565c79e\n",
      "  Stored in directory: c:\\users\\aditya jain\\appdata\\local\\pip\\cache\\wheels\\67\\38\\9c\\7746d8ba01a2e0d69c6bffd90e972fb660100c513a3790d42f\n",
      "  Building wheel for protobuf3-to-dict (setup.py): started\n",
      "  Building wheel for protobuf3-to-dict (setup.py): finished with status 'done'\n",
      "  Created wheel for protobuf3-to-dict: filename=protobuf3_to_dict-0.1.5-py3-none-any.whl size=4034 sha256=c38d310b8563e33023443fc4c1bf4be3d0d33cbde0b5399346695329e4107993\n",
      "  Stored in directory: c:\\users\\aditya jain\\appdata\\local\\pip\\cache\\wheels\\ce\\a0\\8b\\995ce2fbaf0e9fe7eb91da84e99e84d1b35cfaa555f2b8f1c7\n",
      "Successfully built sagemaker protobuf3-to-dict\n",
      "Installing collected packages: jmespath, docutils, botocore, s3transfer, boto3, protobuf3-to-dict, smdebug-rulesconfig, sagemaker\n",
      "  Attempting uninstall: docutils\n",
      "    Found existing installation: docutils 0.16\n",
      "    Uninstalling docutils-0.16:\n",
      "      Successfully uninstalled docutils-0.16\n",
      "Successfully installed boto3-1.13.6 botocore-1.16.6 docutils-0.15.2 jmespath-0.9.5 protobuf3-to-dict-0.1.5 s3transfer-0.3.3 sagemaker-1.58.0 smdebug-rulesconfig-0.1.2\n"
     ]
    }
   ],
   "source": [
    "!pip install sagemaker"
   ]
  },
  {
   "cell_type": "code",
   "execution_count": null,
   "metadata": {},
   "outputs": [],
   "source": []
  }
 ],
 "metadata": {
  "kernelspec": {
   "display_name": "Python 3",
   "language": "python",
   "name": "python3"
  },
  "language_info": {
   "codemirror_mode": {
    "name": "ipython",
    "version": 3
   },
   "file_extension": ".py",
   "mimetype": "text/x-python",
   "name": "python",
   "nbconvert_exporter": "python",
   "pygments_lexer": "ipython3",
   "version": "3.7.6"
  }
 },
 "nbformat": 4,
 "nbformat_minor": 4
}
