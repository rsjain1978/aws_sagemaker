{
 "cells": [
  {
   "cell_type": "code",
   "execution_count": 1,
   "metadata": {},
   "outputs": [
    {
     "name": "stdout",
     "output_type": "stream",
     "text": [
      "Collecting snowflake-connector-python[pandas]\n",
      "  Downloading snowflake_connector_python-2.2.9-cp37-cp37m-win_amd64.whl (3.6 MB)\n",
      "Collecting requests<2.24.0\n",
      "  Downloading requests-2.23.0-py2.py3-none-any.whl (58 kB)\n",
      "Requirement already satisfied: cryptography<3.0.0,>=2.5.0 in c:\\machinelearning\\anaconda3\\envs\\snowflake\\lib\\site-packages (from snowflake-connector-python[pandas]) (2.9.2)\n",
      "Collecting pycryptodomex!=3.5.0,<4.0.0,>=3.2\n",
      "  Downloading pycryptodomex-3.9.8-cp37-cp37m-win_amd64.whl (14.1 MB)\n",
      "Collecting azure-storage-blob<13.0.0,>=12.0.0; python_version >= \"3.5.2\"\n",
      "  Downloading azure_storage_blob-12.3.2-py2.py3-none-any.whl (280 kB)\n",
      "Requirement already satisfied: certifi<2021.0.0 in c:\\machinelearning\\anaconda3\\envs\\snowflake\\lib\\site-packages (from snowflake-connector-python[pandas]) (2020.6.20)\n",
      "Collecting pyjwt<2.0.0\n",
      "  Downloading PyJWT-1.7.1-py2.py3-none-any.whl (18 kB)\n",
      "Collecting oscrypto<2.0.0\n",
      "  Downloading oscrypto-1.2.0-py2.py3-none-any.whl (192 kB)\n",
      "Collecting boto3<1.15,>=1.4.4\n",
      "  Downloading boto3-1.14.26-py2.py3-none-any.whl (128 kB)\n",
      "Requirement already satisfied: asn1crypto<2.0.0,>0.24.0 in c:\\machinelearning\\anaconda3\\envs\\snowflake\\lib\\site-packages (from snowflake-connector-python[pandas]) (1.3.0)\n",
      "Requirement already satisfied: pytz<2021.0 in c:\\machinelearning\\anaconda3\\envs\\snowflake\\lib\\site-packages (from snowflake-connector-python[pandas]) (2020.1)\n",
      "Requirement already satisfied: urllib3<1.26.0,>=1.20 in c:\\machinelearning\\anaconda3\\envs\\snowflake\\lib\\site-packages (from snowflake-connector-python[pandas]) (1.25.9)\n",
      "Requirement already satisfied: pyOpenSSL<21.0.0,>=16.2.0 in c:\\machinelearning\\anaconda3\\envs\\snowflake\\lib\\site-packages (from snowflake-connector-python[pandas]) (19.1.0)\n",
      "Collecting azure-common<2.0.0\n",
      "  Downloading azure_common-1.1.25-py2.py3-none-any.whl (12 kB)\n",
      "Requirement already satisfied: cffi<1.15,>=1.9 in c:\\machinelearning\\anaconda3\\envs\\snowflake\\lib\\site-packages (from snowflake-connector-python[pandas]) (1.14.0)\n",
      "Collecting idna<2.10\n",
      "  Downloading idna-2.9-py2.py3-none-any.whl (58 kB)\n",
      "Collecting pyarrow<0.18.0,>=0.17.0; extra == \"pandas\"\n",
      "  Downloading pyarrow-0.17.1-cp37-cp37m-win_amd64.whl (21.6 MB)\n",
      "Requirement already satisfied: pandas<1.1.0,>=1.0.0; python_version > \"3.5\" and extra == \"pandas\" in c:\\machinelearning\\anaconda3\\envs\\snowflake\\lib\\site-packages (from snowflake-connector-python[pandas]) (1.0.5)\n",
      "Requirement already satisfied: chardet<4,>=3.0.2 in c:\\machinelearning\\anaconda3\\envs\\snowflake\\lib\\site-packages (from requests<2.24.0->snowflake-connector-python[pandas]) (3.0.4)\n",
      "Requirement already satisfied: six>=1.4.1 in c:\\machinelearning\\anaconda3\\envs\\snowflake\\lib\\site-packages (from cryptography<3.0.0,>=2.5.0->snowflake-connector-python[pandas]) (1.15.0)\n",
      "Collecting azure-core<2.0.0,>=1.6.0\n",
      "  Downloading azure_core-1.7.0-py2.py3-none-any.whl (121 kB)\n",
      "Collecting msrest>=0.6.10\n",
      "  Downloading msrest-0.6.17-py2.py3-none-any.whl (84 kB)\n",
      "Collecting botocore<1.18.0,>=1.17.26\n",
      "  Downloading botocore-1.17.26-py2.py3-none-any.whl (6.4 MB)\n",
      "Collecting jmespath<1.0.0,>=0.7.1\n",
      "  Downloading jmespath-0.10.0-py2.py3-none-any.whl (24 kB)\n",
      "Collecting s3transfer<0.4.0,>=0.3.0\n",
      "  Using cached s3transfer-0.3.3-py2.py3-none-any.whl (69 kB)\n",
      "Requirement already satisfied: pycparser in c:\\machinelearning\\anaconda3\\envs\\snowflake\\lib\\site-packages (from cffi<1.15,>=1.9->snowflake-connector-python[pandas]) (2.20)\n",
      "Requirement already satisfied: numpy>=1.14 in c:\\machinelearning\\anaconda3\\envs\\snowflake\\lib\\site-packages (from pyarrow<0.18.0,>=0.17.0; extra == \"pandas\"->snowflake-connector-python[pandas]) (1.18.5)\n",
      "Requirement already satisfied: python-dateutil>=2.6.1 in c:\\machinelearning\\anaconda3\\envs\\snowflake\\lib\\site-packages (from pandas<1.1.0,>=1.0.0; python_version > \"3.5\" and extra == \"pandas\"->snowflake-connector-python[pandas]) (2.8.1)\n",
      "Collecting isodate>=0.6.0\n",
      "  Downloading isodate-0.6.0-py2.py3-none-any.whl (45 kB)\n",
      "Collecting requests-oauthlib>=0.5.0\n",
      "  Using cached requests_oauthlib-1.3.0-py2.py3-none-any.whl (23 kB)\n",
      "Collecting docutils<0.16,>=0.10\n",
      "  Using cached docutils-0.15.2-py3-none-any.whl (547 kB)\n",
      "Collecting oauthlib>=3.0.0\n",
      "  Using cached oauthlib-3.1.0-py2.py3-none-any.whl (147 kB)\n",
      "Installing collected packages: idna, requests, pycryptodomex, azure-core, isodate, oauthlib, requests-oauthlib, msrest, azure-storage-blob, pyjwt, oscrypto, docutils, jmespath, botocore, s3transfer, boto3, azure-common, pyarrow, snowflake-connector-python\n",
      "  Attempting uninstall: idna\n",
      "    Found existing installation: idna 2.10\n",
      "    Uninstalling idna-2.10:\n",
      "      Successfully uninstalled idna-2.10\n",
      "  Attempting uninstall: requests\n",
      "    Found existing installation: requests 2.24.0\n",
      "    Uninstalling requests-2.24.0:\n",
      "      Successfully uninstalled requests-2.24.0\n",
      "  Attempting uninstall: docutils\n",
      "    Found existing installation: docutils 0.16\n",
      "    Uninstalling docutils-0.16:\n",
      "      Successfully uninstalled docutils-0.16\n",
      "Successfully installed azure-common-1.1.25 azure-core-1.7.0 azure-storage-blob-12.3.2 boto3-1.14.26 botocore-1.17.26 docutils-0.15.2 idna-2.9 isodate-0.6.0 jmespath-0.10.0 msrest-0.6.17 oauthlib-3.1.0 oscrypto-1.2.0 pyarrow-0.17.1 pycryptodomex-3.9.8 pyjwt-1.7.1 requests-2.23.0 requests-oauthlib-1.3.0 s3transfer-0.3.3 snowflake-connector-python-2.2.9\n"
     ]
    }
   ],
   "source": [
    "!pip install snowflake-connector-python[pandas]"
   ]
  },
  {
   "cell_type": "code",
   "execution_count": 2,
   "metadata": {},
   "outputs": [
    {
     "name": "stdout",
     "output_type": "stream",
     "text": [
      "4.25.1\n"
     ]
    }
   ],
   "source": [
    "#!/usr/bin/env python\n",
    "import snowflake.connector\n",
    "\n",
    "# Gets the version\n",
    "ctx = snowflake.connector.connect(\n",
    "    user='sagemaker',\n",
    "    password='xxxx',\n",
    "    account='oq51261.eu-west-1'\n",
    ")\n",
    "cs = ctx.cursor()\n",
    "try:\n",
    "    cs.execute(\"SELECT current_version()\")\n",
    "    one_row = cs.fetchone()\n",
    "    print(one_row[0])\n",
    "finally:\n",
    "    cs.close()\n",
    "ctx.close()"
   ]
  },
  {
   "cell_type": "code",
   "execution_count": 3,
   "metadata": {},
   "outputs": [],
   "source": [
    "# Connecting to Snowflake using the default authenticator\n",
    "ctx = snowflake.connector.connect(\n",
    "  user='sagemaker',\n",
    "  password='xxxx',\n",
    "  account='oq51261.eu-west-1',\n",
    "  warehouse='SAGEMAKER_WH',\n",
    "  database='ML_IRIS',\n",
    "  schema='PUBLIC'\n",
    ")"
   ]
  },
  {
   "cell_type": "markdown",
   "metadata": {},
   "source": [
    "# Query the data from Snowflake"
   ]
  },
  {
   "cell_type": "code",
   "execution_count": 4,
   "metadata": {},
   "outputs": [],
   "source": [
    "import pandas as pd\n",
    "\n",
    "cs = ctx.cursor()\n",
    "allrows = cs.execute(\"\"\"select * from iris\"\"\").fetchall()\n",
    "\n",
    "iris_data = pd.DataFrame(allrows, columns=['sepal_len','sepal_wid','petal_len','petal_wid','class'])"
   ]
  },
  {
   "cell_type": "code",
   "execution_count": 5,
   "metadata": {},
   "outputs": [
    {
     "data": {
      "text/html": [
       "<div>\n",
       "<style scoped>\n",
       "    .dataframe tbody tr th:only-of-type {\n",
       "        vertical-align: middle;\n",
       "    }\n",
       "\n",
       "    .dataframe tbody tr th {\n",
       "        vertical-align: top;\n",
       "    }\n",
       "\n",
       "    .dataframe thead th {\n",
       "        text-align: right;\n",
       "    }\n",
       "</style>\n",
       "<table border=\"1\" class=\"dataframe\">\n",
       "  <thead>\n",
       "    <tr style=\"text-align: right;\">\n",
       "      <th></th>\n",
       "      <th>sepal_len</th>\n",
       "      <th>sepal_wid</th>\n",
       "      <th>petal_len</th>\n",
       "      <th>petal_wid</th>\n",
       "      <th>class</th>\n",
       "    </tr>\n",
       "  </thead>\n",
       "  <tbody>\n",
       "    <tr>\n",
       "      <th>0</th>\n",
       "      <td>5.1</td>\n",
       "      <td>3.5</td>\n",
       "      <td>1.4</td>\n",
       "      <td>0.2</td>\n",
       "      <td>0</td>\n",
       "    </tr>\n",
       "    <tr>\n",
       "      <th>1</th>\n",
       "      <td>4.9</td>\n",
       "      <td>3.0</td>\n",
       "      <td>1.4</td>\n",
       "      <td>0.2</td>\n",
       "      <td>0</td>\n",
       "    </tr>\n",
       "    <tr>\n",
       "      <th>2</th>\n",
       "      <td>4.7</td>\n",
       "      <td>3.2</td>\n",
       "      <td>1.3</td>\n",
       "      <td>0.2</td>\n",
       "      <td>0</td>\n",
       "    </tr>\n",
       "    <tr>\n",
       "      <th>3</th>\n",
       "      <td>4.6</td>\n",
       "      <td>3.1</td>\n",
       "      <td>1.5</td>\n",
       "      <td>0.2</td>\n",
       "      <td>0</td>\n",
       "    </tr>\n",
       "    <tr>\n",
       "      <th>4</th>\n",
       "      <td>5.0</td>\n",
       "      <td>3.6</td>\n",
       "      <td>1.4</td>\n",
       "      <td>0.2</td>\n",
       "      <td>0</td>\n",
       "    </tr>\n",
       "  </tbody>\n",
       "</table>\n",
       "</div>"
      ],
      "text/plain": [
       "   sepal_len  sepal_wid  petal_len  petal_wid  class\n",
       "0        5.1        3.5        1.4        0.2      0\n",
       "1        4.9        3.0        1.4        0.2      0\n",
       "2        4.7        3.2        1.3        0.2      0\n",
       "3        4.6        3.1        1.5        0.2      0\n",
       "4        5.0        3.6        1.4        0.2      0"
      ]
     },
     "execution_count": 5,
     "metadata": {},
     "output_type": "execute_result"
    }
   ],
   "source": [
    "iris_data.head()"
   ]
  },
  {
   "cell_type": "code",
   "execution_count": 9,
   "metadata": {},
   "outputs": [],
   "source": [
    "iris_data.to_csv('iris_localhost.csv')"
   ]
  },
  {
   "cell_type": "markdown",
   "metadata": {},
   "source": [
    "# Uplaod data to S3"
   ]
  },
  {
   "cell_type": "code",
   "execution_count": 7,
   "metadata": {},
   "outputs": [
    {
     "name": "stdout",
     "output_type": "stream",
     "text": [
      "Collecting sagemaker\n",
      "  Downloading sagemaker-1.70.2.tar.gz (297 kB)\n",
      "Requirement already satisfied: boto3>=1.14.12 in c:\\machinelearning\\anaconda3\\envs\\snowflake\\lib\\site-packages (from sagemaker) (1.14.26)\n",
      "Requirement already satisfied: numpy>=1.9.0 in c:\\machinelearning\\anaconda3\\envs\\snowflake\\lib\\site-packages (from sagemaker) (1.18.5)\n",
      "Collecting protobuf>=3.1\n",
      "  Downloading protobuf-3.12.2-cp37-cp37m-win_amd64.whl (1.0 MB)\n",
      "Requirement already satisfied: scipy>=0.19.0 in c:\\machinelearning\\anaconda3\\envs\\snowflake\\lib\\site-packages (from sagemaker) (1.5.0)\n",
      "Processing c:\\users\\aditya jain\\appdata\\local\\pip\\cache\\wheels\\ce\\a0\\8b\\995ce2fbaf0e9fe7eb91da84e99e84d1b35cfaa555f2b8f1c7\\protobuf3_to_dict-0.1.5-py3-none-any.whl\n",
      "Collecting smdebug-rulesconfig==0.1.4\n",
      "  Downloading smdebug_rulesconfig-0.1.4-py2.py3-none-any.whl (10 kB)\n",
      "Requirement already satisfied: importlib-metadata>=1.4.0 in c:\\machinelearning\\anaconda3\\envs\\snowflake\\lib\\site-packages (from sagemaker) (1.7.0)\n",
      "Requirement already satisfied: packaging>=20.0 in c:\\machinelearning\\anaconda3\\envs\\snowflake\\lib\\site-packages (from sagemaker) (20.4)\n",
      "Requirement already satisfied: botocore<1.18.0,>=1.17.26 in c:\\machinelearning\\anaconda3\\envs\\snowflake\\lib\\site-packages (from boto3>=1.14.12->sagemaker) (1.17.26)\n",
      "Requirement already satisfied: s3transfer<0.4.0,>=0.3.0 in c:\\machinelearning\\anaconda3\\envs\\snowflake\\lib\\site-packages (from boto3>=1.14.12->sagemaker) (0.3.3)\n",
      "Requirement already satisfied: jmespath<1.0.0,>=0.7.1 in c:\\machinelearning\\anaconda3\\envs\\snowflake\\lib\\site-packages (from boto3>=1.14.12->sagemaker) (0.10.0)\n",
      "Requirement already satisfied: six>=1.9 in c:\\machinelearning\\anaconda3\\envs\\snowflake\\lib\\site-packages (from protobuf>=3.1->sagemaker) (1.15.0)\n",
      "Requirement already satisfied: setuptools in c:\\machinelearning\\anaconda3\\envs\\snowflake\\lib\\site-packages (from protobuf>=3.1->sagemaker) (49.2.0.post20200714)\n",
      "Requirement already satisfied: zipp>=0.5 in c:\\machinelearning\\anaconda3\\envs\\snowflake\\lib\\site-packages (from importlib-metadata>=1.4.0->sagemaker) (3.1.0)\n",
      "Requirement already satisfied: pyparsing>=2.0.2 in c:\\machinelearning\\anaconda3\\envs\\snowflake\\lib\\site-packages (from packaging>=20.0->sagemaker) (2.4.7)\n",
      "Requirement already satisfied: urllib3<1.26,>=1.20; python_version != \"3.4\" in c:\\machinelearning\\anaconda3\\envs\\snowflake\\lib\\site-packages (from botocore<1.18.0,>=1.17.26->boto3>=1.14.12->sagemaker) (1.25.9)\n",
      "Requirement already satisfied: docutils<0.16,>=0.10 in c:\\machinelearning\\anaconda3\\envs\\snowflake\\lib\\site-packages (from botocore<1.18.0,>=1.17.26->boto3>=1.14.12->sagemaker) (0.15.2)\n",
      "Requirement already satisfied: python-dateutil<3.0.0,>=2.1 in c:\\machinelearning\\anaconda3\\envs\\snowflake\\lib\\site-packages (from botocore<1.18.0,>=1.17.26->boto3>=1.14.12->sagemaker) (2.8.1)\n",
      "Building wheels for collected packages: sagemaker\n",
      "  Building wheel for sagemaker (setup.py): started\n",
      "  Building wheel for sagemaker (setup.py): finished with status 'done'\n",
      "  Created wheel for sagemaker: filename=sagemaker-1.70.2-py2.py3-none-any.whl size=385142 sha256=3325a98fc343e0dbdf2b694194ab46688b98aa9afd45c952776ec735edf7d651\n",
      "  Stored in directory: c:\\users\\aditya jain\\appdata\\local\\pip\\cache\\wheels\\9c\\c1\\6f\\f619c7591e4fa2696fdec7a7675930ebb0fdcc3aaa98d8392a\n",
      "Successfully built sagemaker\n",
      "Installing collected packages: protobuf, protobuf3-to-dict, smdebug-rulesconfig, sagemaker\n",
      "Successfully installed protobuf-3.12.2 protobuf3-to-dict-0.1.5 sagemaker-1.70.2 smdebug-rulesconfig-0.1.4\n"
     ]
    }
   ],
   "source": [
    "!pip install sagemaker"
   ]
  },
  {
   "cell_type": "code",
   "execution_count": 11,
   "metadata": {},
   "outputs": [
    {
     "name": "stdout",
     "output_type": "stream",
     "text": [
      "uploading data to s3\n",
      "data uploaded to - s3://snowflake-getting-started/iris/data/iris_localhost.csv\n"
     ]
    }
   ],
   "source": [
    "import sagemaker\n",
    "\n",
    "session = sagemaker.session.Session()\n",
    "s3_bucket = 'snowflake-getting-started'\n",
    "prefix = 'iris/data'\n",
    "\n",
    "print ('uploading data to s3')\n",
    "s3_data_path = session.upload_data(path='iris_localhost.csv', \n",
    "                                   bucket=s3_bucket, \n",
    "                                   key_prefix=prefix)\n",
    "print ('data uploaded to -', s3_data_path)"
   ]
  },
  {
   "cell_type": "code",
   "execution_count": null,
   "metadata": {},
   "outputs": [],
   "source": []
  }
 ],
 "metadata": {
  "kernelspec": {
   "display_name": "Python 3",
   "language": "python",
   "name": "python3"
  },
  "language_info": {
   "codemirror_mode": {
    "name": "ipython",
    "version": 3
   },
   "file_extension": ".py",
   "mimetype": "text/x-python",
   "name": "python",
   "nbconvert_exporter": "python",
   "pygments_lexer": "ipython3",
   "version": "3.7.7"
  }
 },
 "nbformat": 4,
 "nbformat_minor": 4
}
