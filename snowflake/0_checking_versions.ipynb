{
 "cells": [
  {
   "cell_type": "code",
   "execution_count": 4,
   "metadata": {},
   "outputs": [
    {
     "name": "stdout",
     "output_type": "stream",
     "text": [
      "Requirement already satisfied: snowflake-connector-python[pandas] in c:\\machinelearning\\anaconda3\\envs\\snowflake\\lib\\site-packages (2.2.9)\n",
      "Requirement already satisfied: pyOpenSSL<21.0.0,>=16.2.0 in c:\\machinelearning\\anaconda3\\envs\\snowflake\\lib\\site-packages (from snowflake-connector-python[pandas]) (19.1.0)\n",
      "Requirement already satisfied: azure-common<2.0.0 in c:\\machinelearning\\anaconda3\\envs\\snowflake\\lib\\site-packages (from snowflake-connector-python[pandas]) (1.1.25)\n",
      "Requirement already satisfied: certifi<2021.0.0 in c:\\machinelearning\\anaconda3\\envs\\snowflake\\lib\\site-packages (from snowflake-connector-python[pandas]) (2020.6.20)\n",
      "Requirement already satisfied: cryptography<3.0.0,>=2.5.0 in c:\\machinelearning\\anaconda3\\envs\\snowflake\\lib\\site-packages (from snowflake-connector-python[pandas]) (2.9.2)\n",
      "Requirement already satisfied: boto3<1.15,>=1.4.4 in c:\\machinelearning\\anaconda3\\envs\\snowflake\\lib\\site-packages (from snowflake-connector-python[pandas]) (1.14.26)\n",
      "Requirement already satisfied: cffi<1.15,>=1.9 in c:\\machinelearning\\anaconda3\\envs\\snowflake\\lib\\site-packages (from snowflake-connector-python[pandas]) (1.14.0)\n",
      "Requirement already satisfied: idna<2.10 in c:\\machinelearning\\anaconda3\\envs\\snowflake\\lib\\site-packages (from snowflake-connector-python[pandas]) (2.9)\n",
      "Requirement already satisfied: azure-storage-blob<13.0.0,>=12.0.0; python_version >= \"3.5.2\" in c:\\machinelearning\\anaconda3\\envs\\snowflake\\lib\\site-packages (from snowflake-connector-python[pandas]) (12.3.2)\n",
      "Requirement already satisfied: oscrypto<2.0.0 in c:\\machinelearning\\anaconda3\\envs\\snowflake\\lib\\site-packages (from snowflake-connector-python[pandas]) (1.2.0)\n",
      "Requirement already satisfied: asn1crypto<2.0.0,>0.24.0 in c:\\machinelearning\\anaconda3\\envs\\snowflake\\lib\\site-packages (from snowflake-connector-python[pandas]) (1.3.0)\n",
      "Requirement already satisfied: urllib3<1.26.0,>=1.20 in c:\\machinelearning\\anaconda3\\envs\\snowflake\\lib\\site-packages (from snowflake-connector-python[pandas]) (1.25.9)\n",
      "Requirement already satisfied: pycryptodomex!=3.5.0,<4.0.0,>=3.2 in c:\\machinelearning\\anaconda3\\envs\\snowflake\\lib\\site-packages (from snowflake-connector-python[pandas]) (3.9.8)\n",
      "Requirement already satisfied: pyjwt<2.0.0 in c:\\machinelearning\\anaconda3\\envs\\snowflake\\lib\\site-packages (from snowflake-connector-python[pandas]) (1.7.1)\n",
      "Requirement already satisfied: pytz<2021.0 in c:\\machinelearning\\anaconda3\\envs\\snowflake\\lib\\site-packages (from snowflake-connector-python[pandas]) (2020.1)\n",
      "Requirement already satisfied: requests<2.24.0 in c:\\machinelearning\\anaconda3\\envs\\snowflake\\lib\\site-packages (from snowflake-connector-python[pandas]) (2.23.0)\n",
      "Requirement already satisfied: pandas<1.1.0,>=1.0.0; python_version > \"3.5\" and extra == \"pandas\" in c:\\machinelearning\\anaconda3\\envs\\snowflake\\lib\\site-packages (from snowflake-connector-python[pandas]) (1.0.5)\n",
      "Requirement already satisfied: pyarrow<0.18.0,>=0.17.0; extra == \"pandas\" in c:\\machinelearning\\anaconda3\\envs\\snowflake\\lib\\site-packages (from snowflake-connector-python[pandas]) (0.17.1)\n",
      "Requirement already satisfied: six>=1.5.2 in c:\\machinelearning\\anaconda3\\envs\\snowflake\\lib\\site-packages (from pyOpenSSL<21.0.0,>=16.2.0->snowflake-connector-python[pandas]) (1.15.0)\n",
      "Requirement already satisfied: s3transfer<0.4.0,>=0.3.0 in c:\\machinelearning\\anaconda3\\envs\\snowflake\\lib\\site-packages (from boto3<1.15,>=1.4.4->snowflake-connector-python[pandas]) (0.3.3)\n",
      "Requirement already satisfied: botocore<1.18.0,>=1.17.26 in c:\\machinelearning\\anaconda3\\envs\\snowflake\\lib\\site-packages (from boto3<1.15,>=1.4.4->snowflake-connector-python[pandas]) (1.17.26)\n",
      "Requirement already satisfied: jmespath<1.0.0,>=0.7.1 in c:\\machinelearning\\anaconda3\\envs\\snowflake\\lib\\site-packages (from boto3<1.15,>=1.4.4->snowflake-connector-python[pandas]) (0.10.0)\n",
      "Requirement already satisfied: pycparser in c:\\machinelearning\\anaconda3\\envs\\snowflake\\lib\\site-packages (from cffi<1.15,>=1.9->snowflake-connector-python[pandas]) (2.20)\n",
      "Requirement already satisfied: azure-core<2.0.0,>=1.6.0 in c:\\machinelearning\\anaconda3\\envs\\snowflake\\lib\\site-packages (from azure-storage-blob<13.0.0,>=12.0.0; python_version >= \"3.5.2\"->snowflake-connector-python[pandas]) (1.7.0)\n",
      "Requirement already satisfied: msrest>=0.6.10 in c:\\machinelearning\\anaconda3\\envs\\snowflake\\lib\\site-packages (from azure-storage-blob<13.0.0,>=12.0.0; python_version >= \"3.5.2\"->snowflake-connector-python[pandas]) (0.6.17)\n",
      "Requirement already satisfied: chardet<4,>=3.0.2 in c:\\machinelearning\\anaconda3\\envs\\snowflake\\lib\\site-packages (from requests<2.24.0->snowflake-connector-python[pandas]) (3.0.4)\n",
      "Requirement already satisfied: python-dateutil>=2.6.1 in c:\\machinelearning\\anaconda3\\envs\\snowflake\\lib\\site-packages (from pandas<1.1.0,>=1.0.0; python_version > \"3.5\" and extra == \"pandas\"->snowflake-connector-python[pandas]) (2.8.1)\n",
      "Requirement already satisfied: numpy>=1.13.3 in c:\\machinelearning\\anaconda3\\envs\\snowflake\\lib\\site-packages (from pandas<1.1.0,>=1.0.0; python_version > \"3.5\" and extra == \"pandas\"->snowflake-connector-python[pandas]) (1.18.5)\n",
      "Requirement already satisfied: docutils<0.16,>=0.10 in c:\\machinelearning\\anaconda3\\envs\\snowflake\\lib\\site-packages (from botocore<1.18.0,>=1.17.26->boto3<1.15,>=1.4.4->snowflake-connector-python[pandas]) (0.15.2)\n",
      "Requirement already satisfied: requests-oauthlib>=0.5.0 in c:\\machinelearning\\anaconda3\\envs\\snowflake\\lib\\site-packages (from msrest>=0.6.10->azure-storage-blob<13.0.0,>=12.0.0; python_version >= \"3.5.2\"->snowflake-connector-python[pandas]) (1.3.0)\n",
      "Requirement already satisfied: isodate>=0.6.0 in c:\\machinelearning\\anaconda3\\envs\\snowflake\\lib\\site-packages (from msrest>=0.6.10->azure-storage-blob<13.0.0,>=12.0.0; python_version >= \"3.5.2\"->snowflake-connector-python[pandas]) (0.6.0)\n",
      "Requirement already satisfied: oauthlib>=3.0.0 in c:\\machinelearning\\anaconda3\\envs\\snowflake\\lib\\site-packages (from requests-oauthlib>=0.5.0->msrest>=0.6.10->azure-storage-blob<13.0.0,>=12.0.0; python_version >= \"3.5.2\"->snowflake-connector-python[pandas]) (3.1.0)\n"
     ]
    }
   ],
   "source": [
    "!pip install \"snowflake-connector-python[pandas]\""
   ]
  },
  {
   "cell_type": "code",
   "execution_count": 5,
   "metadata": {},
   "outputs": [
    {
     "name": "stdout",
     "output_type": "stream",
     "text": [
      "Python 3.7.7\n"
     ]
    }
   ],
   "source": [
    "!python --version"
   ]
  },
  {
   "cell_type": "code",
   "execution_count": 6,
   "metadata": {},
   "outputs": [
    {
     "name": "stdout",
     "output_type": "stream",
     "text": [
      "Name: pyarrow\n",
      "Version: 0.17.1\n",
      "Summary: Python library for Apache Arrow\n",
      "Home-page: https://arrow.apache.org/\n",
      "Author: None\n",
      "Author-email: None\n",
      "License: Apache License, Version 2.0\n",
      "Location: c:\\machinelearning\\anaconda3\\envs\\snowflake\\lib\\site-packages\n",
      "Requires: numpy\n",
      "Required-by: \n"
     ]
    }
   ],
   "source": [
    "!pip show pyarrow"
   ]
  },
  {
   "cell_type": "code",
   "execution_count": 7,
   "metadata": {},
   "outputs": [
    {
     "name": "stdout",
     "output_type": "stream",
     "text": [
      "Name: sagemaker\n",
      "Version: 1.70.2\n",
      "Summary: Open source library for training and deploying models on Amazon SageMaker.\n",
      "Home-page: https://github.com/aws/sagemaker-python-sdk/\n",
      "Author: Amazon Web Services\n",
      "Author-email: None\n",
      "License: Apache License 2.0\n",
      "Location: c:\\machinelearning\\anaconda3\\envs\\snowflake\\lib\\site-packages\n",
      "Requires: packaging, smdebug-rulesconfig, protobuf3-to-dict, numpy, scipy, protobuf, importlib-metadata, boto3\n",
      "Required-by: \n"
     ]
    }
   ],
   "source": [
    "!pip show sagemaker"
   ]
  },
  {
   "cell_type": "code",
   "execution_count": 8,
   "metadata": {},
   "outputs": [
    {
     "name": "stdout",
     "output_type": "stream",
     "text": [
      "Name: snowflake-connector-python\n",
      "Version: 2.2.9\n",
      "Summary: Snowflake Connector for Python\n",
      "Home-page: https://www.snowflake.com/\n",
      "Author: Snowflake, Inc\n",
      "Author-email: support@snowflake.com\n",
      "License: Apache License, Version 2.0\n",
      "Location: c:\\machinelearning\\anaconda3\\envs\\snowflake\\lib\\site-packages\n",
      "Requires: cryptography, asn1crypto, cffi, oscrypto, pyOpenSSL, pyjwt, requests, certifi, idna, azure-storage-blob, urllib3, azure-common, boto3, pytz, pycryptodomex\n",
      "Required-by: \n"
     ]
    }
   ],
   "source": [
    "!pip show snowflake-connector-python"
   ]
  },
  {
   "cell_type": "code",
   "execution_count": 9,
   "metadata": {},
   "outputs": [
    {
     "name": "stdout",
     "output_type": "stream",
     "text": [
      "4.25.1\n"
     ]
    }
   ],
   "source": [
    "#!/usr/bin/env python\n",
    "import snowflake.connector\n",
    "\n",
    "# Gets the version\n",
    "ctx = snowflake.connector.connect(\n",
    "    user='sagemaker',\n",
    "    password='IRISPW',\n",
    "    account='oq51261.eu-west-1'\n",
    ")\n",
    "cs = ctx.cursor()\n",
    "try:\n",
    "    cs.execute(\"SELECT current_version()\")\n",
    "    one_row = cs.fetchone()\n",
    "    print(one_row[0])\n",
    "finally:\n",
    "    cs.close()\n",
    "ctx.close()"
   ]
  },
  {
   "cell_type": "code",
   "execution_count": null,
   "metadata": {},
   "outputs": [],
   "source": []
  }
 ],
 "metadata": {
  "kernelspec": {
   "display_name": "Python 3",
   "language": "python",
   "name": "python3"
  },
  "language_info": {
   "codemirror_mode": {
    "name": "ipython",
    "version": 3
   },
   "file_extension": ".py",
   "mimetype": "text/x-python",
   "name": "python",
   "nbconvert_exporter": "python",
   "pygments_lexer": "ipython3",
   "version": "3.7.7"
  }
 },
 "nbformat": 4,
 "nbformat_minor": 4
}
