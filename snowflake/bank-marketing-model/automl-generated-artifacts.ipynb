{
 "cells": [
  {
   "cell_type": "code",
   "execution_count": 1,
   "metadata": {},
   "outputs": [],
   "source": [
    "import sagemaker\n",
    "import boto3\n",
    "import pandas as pd\n",
    "from sagemaker import get_execution_role"
   ]
  },
  {
   "cell_type": "code",
   "execution_count": 4,
   "metadata": {},
   "outputs": [],
   "source": [
    "sm = boto3.client('sagemaker')"
   ]
  },
  {
   "cell_type": "markdown",
   "metadata": {},
   "source": [
    "### Print Tuning Jobs & Their Outcomes"
   ]
  },
  {
   "cell_type": "code",
   "execution_count": 3,
   "metadata": {},
   "outputs": [
    {
     "name": "stdout",
     "output_type": "stream",
     "text": [
      "1  tuning-job-1-e148d7f250124d6698-092-2110e770  0.7495999932289124\n",
      "2  tuning-job-1-e148d7f250124d6698-163-705546cb  0.7487599849700928\n",
      "3  tuning-job-1-e148d7f250124d6698-076-4769469b  0.7474899888038635\n",
      "4  tuning-job-1-e148d7f250124d6698-193-243876f2  0.7474200129508972\n",
      "5  tuning-job-1-e148d7f250124d6698-209-002f71a2  0.7468900084495544\n",
      "6  tuning-job-1-e148d7f250124d6698-157-c7267239  0.7461199760437012\n",
      "7  tuning-job-1-e148d7f250124d6698-246-a827c9f2  0.7450500130653381\n",
      "8  tuning-job-1-e148d7f250124d6698-240-5574631b  0.7450500130653381\n",
      "9  tuning-job-1-e148d7f250124d6698-127-61e6be04  0.7449399828910828\n",
      "10  tuning-job-1-e148d7f250124d6698-133-866bdbd7  0.7442399859428406\n"
     ]
    }
   ],
   "source": [
    "candidates = sm.list_candidates_for_auto_ml_job(AutoMLJobName='bank-marketing-experiment', \n",
    "                                                SortBy='FinalObjectiveMetricValue')['Candidates']\n",
    "index = 1\n",
    "for candidate in candidates:\n",
    "  print (str(index) + \"  \" + candidate['CandidateName'] + \"  \" + str(candidate['FinalAutoMLJobObjectiveMetric']['Value']))\n",
    "  index += 1"
   ]
  },
  {
   "cell_type": "code",
   "execution_count": null,
   "metadata": {},
   "outputs": [],
   "source": []
  }
 ],
 "metadata": {
  "instance_type": "ml.t3.medium",
  "kernelspec": {
   "display_name": "Python 3 (Data Science)",
   "language": "python",
   "name": "python3__SAGEMAKER_INTERNAL__arn:aws:sagemaker:eu-west-1:470317259841:image/datascience-1.0"
  },
  "language_info": {
   "codemirror_mode": {
    "name": "ipython",
    "version": 3
   },
   "file_extension": ".py",
   "mimetype": "text/x-python",
   "name": "python",
   "nbconvert_exporter": "python",
   "pygments_lexer": "ipython3",
   "version": "3.7.6"
  }
 },
 "nbformat": 4,
 "nbformat_minor": 4
}
